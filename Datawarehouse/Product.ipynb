{
 "cells": [
  {
   "cell_type": "code",
   "execution_count": 2,
   "metadata": {},
   "outputs": [],
   "source": [
    "import pandas as pd\n",
    "import pyodbc\n",
    "\n",
    "DB = {\n",
    "    'servername': 'JULLAPTAB', \n",
    "    'database': 'UnitedOutdoors'\n",
    "}\n"
   ]
  },
  {
   "cell_type": "code",
   "execution_count": 3,
   "metadata": {},
   "outputs": [
    {
     "ename": "OperationalError",
     "evalue": "('08001', '[08001] [Microsoft][ODBC SQL Server Driver][DBNETLIB]SQL Server does not exist or access denied. (17) (SQLDriverConnect); [08001] [Microsoft][ODBC SQL Server Driver][DBNETLIB]ConnectionOpen (Connect()). (53)')",
     "output_type": "error",
     "traceback": [
      "\u001b[1;31m---------------------------------------------------------------------------\u001b[0m",
      "\u001b[1;31mOperationalError\u001b[0m                          Traceback (most recent call last)",
      "Cell \u001b[1;32mIn[3], line 1\u001b[0m\n\u001b[1;32m----> 1\u001b[0m export_conn \u001b[38;5;241m=\u001b[39m \u001b[43mpyodbc\u001b[49m\u001b[38;5;241;43m.\u001b[39;49m\u001b[43mconnect\u001b[49m\u001b[43m(\u001b[49m\u001b[38;5;124;43m'\u001b[39;49m\u001b[38;5;124;43mDRIVER=\u001b[39;49m\u001b[38;5;124;43m{\u001b[39;49m\u001b[38;5;124;43mSQL Server};SERVER=\u001b[39;49m\u001b[38;5;124;43m'\u001b[39;49m\u001b[43m \u001b[49m\u001b[38;5;241;43m+\u001b[39;49m\u001b[43m \u001b[49m\u001b[43mDB\u001b[49m\u001b[43m[\u001b[49m\u001b[38;5;124;43m'\u001b[39;49m\u001b[38;5;124;43mservername\u001b[39;49m\u001b[38;5;124;43m'\u001b[39;49m\u001b[43m]\u001b[49m\u001b[43m \u001b[49m\u001b[38;5;241;43m+\u001b[39;49m\u001b[43m \u001b[49m\u001b[38;5;124;43m'\u001b[39;49m\u001b[38;5;124;43m;DATABASE=\u001b[39;49m\u001b[38;5;124;43m'\u001b[39;49m\u001b[43m \u001b[49m\u001b[38;5;241;43m+\u001b[39;49m\u001b[43m \u001b[49m\u001b[43mDB\u001b[49m\u001b[43m[\u001b[49m\u001b[38;5;124;43m'\u001b[39;49m\u001b[38;5;124;43mdatabase\u001b[39;49m\u001b[38;5;124;43m'\u001b[39;49m\u001b[43m]\u001b[49m\u001b[43m)\u001b[49m\n\u001b[0;32m      2\u001b[0m export_cursor \u001b[38;5;241m=\u001b[39m export_conn\u001b[38;5;241m.\u001b[39mcursor()\n\u001b[0;32m      3\u001b[0m export_cursor\n",
      "\u001b[1;31mOperationalError\u001b[0m: ('08001', '[08001] [Microsoft][ODBC SQL Server Driver][DBNETLIB]SQL Server does not exist or access denied. (17) (SQLDriverConnect); [08001] [Microsoft][ODBC SQL Server Driver][DBNETLIB]ConnectionOpen (Connect()). (53)')"
     ]
    }
   ],
   "source": [
    "export_conn = pyodbc.connect('DRIVER={SQL Server};SERVER=' + DB['servername'] + ';DATABASE=' + DB['database'])\n",
    "export_cursor = export_conn.cursor()\n",
    "export_cursor\n"
   ]
  },
  {
   "cell_type": "code",
   "execution_count": null,
   "metadata": {},
   "outputs": [
    {
     "name": "stdout",
     "output_type": "stream",
     "text": [
      "    ProductID                      ProductName  SupplierID  CategoryID  \\\n",
      "0           1                             Chai           1           1   \n",
      "1           2                            Chang           1           1   \n",
      "2           3                    Aniseed Syrup           1           2   \n",
      "3           4     Chef Anton's Cajun Seasoning           2           2   \n",
      "4           5           Chef Anton's Gumbo Mix           2           2   \n",
      "..        ...                              ...         ...         ...   \n",
      "72         73                       Röd Kaviar          17           8   \n",
      "73         74                    Longlife Tofu           4           7   \n",
      "74         75             Rhönbräu Klosterbier          12           1   \n",
      "75         76                     Lakkalikööri          23           1   \n",
      "76         77  Original Frankfurter grüne Soße          12           2   \n",
      "\n",
      "        QuantityPerUnit  UnitPrice  UnitsInStock  UnitsOnOrder  ReorderLevel  \\\n",
      "0    10 boxes x 20 bags      18.00            39             0            10   \n",
      "1    24 - 12 oz bottles      19.00            17            40            25   \n",
      "2   12 - 550 ml bottles      10.00            13            70            25   \n",
      "3        48 - 6 oz jars      22.00            53             0             0   \n",
      "4              36 boxes      21.35             0             0             0   \n",
      "..                  ...        ...           ...           ...           ...   \n",
      "72      24 - 150 g jars      15.00           101             0             5   \n",
      "73            5 kg pkg.      10.00             4            20             5   \n",
      "74   24 - 0.5 l bottles       7.75           125             0            25   \n",
      "75               500 ml      18.00            57             0            20   \n",
      "76             12 boxes      13.00            32             0            15   \n",
      "\n",
      "    Discontinued  \n",
      "0          False  \n",
      "1          False  \n",
      "2          False  \n",
      "3          False  \n",
      "4           True  \n",
      "..           ...  \n",
      "72         False  \n",
      "73         False  \n",
      "74         False  \n",
      "75         False  \n",
      "76         False  \n",
      "\n",
      "[77 rows x 10 columns]\n"
     ]
    },
    {
     "name": "stderr",
     "output_type": "stream",
     "text": [
      "C:\\Users\\antho\\AppData\\Local\\Temp\\ipykernel_16600\\1704179019.py:4: UserWarning: pandas only supports SQLAlchemy connectable (engine/connection) or database string URI or sqlite3 DBAPI2 connection. Other DBAPI2 objects are not tested. Please consider using SQLAlchemy.\n",
      "  products_df = pd.read_sql_query(products_query, export_conn)\n"
     ]
    }
   ],
   "source": [
    "conn_str_access = (\n",
    "    r'DRIVER={Microsoft Access Driver (*.mdb, *.accdb)};'\n",
    "    r'DBQ=C:\\Users\\julia\\OneDrive\\Desktop\\THUAS\\ICT\\Year2\\Semester 4\\Project\\UO_bedrijf\\aenc.accdb;'\n",
    ")\n",
    "aec_conn = pyodbc.connect(conn_str_access)\n"
   ]
  },
  {
   "cell_type": "code",
   "execution_count": null,
   "metadata": {},
   "outputs": [
    {
     "name": "stdout",
     "output_type": "stream",
     "text": [
      "    id          name        description          prod_size   color quantity  \\\n",
      "0  300     Tee Shirt           Tank Top              Small   White       18   \n",
      "1  301     Tee Shirt             V-neck             Medium  Orange       39   \n",
      "2  302     Tee Shirt          Crew Neck  One size fits all   Black       72   \n",
      "3  400  Baseball Cap         Cotton Cap  One size fits all   Black       92   \n",
      "4  401  Baseball Cap           Wool cap  One size fits all   White       12   \n",
      "5  500         Visor        Cloth Visor  One size fits all   White       36   \n",
      "6  501         Visor      Plastic Visor  One size fits all   Black       28   \n",
      "7  600    Sweatshirt  Hooded Sweatshirt              Large   Green       39   \n",
      "8  601    Sweatshirt  Zipped Sweatshirt              Large    Blue       32   \n",
      "9  700        Shorts      Cotton Shorts             Medium   Black       80   \n",
      "\n",
      "  unit_price picture_name     Category  \n",
      "0          9  tshirtw.bmp      Clothes  \n",
      "1         14  tshirto.bmp      Clothes  \n",
      "2         14  tshirtb.bmp      Clothes  \n",
      "3          9     capb.bmp  Accessories  \n",
      "4         10     capw.bmp  Accessories  \n",
      "5          7   visorw.bmp  Accessories  \n",
      "6          7   visorb.bmp  Accessories  \n",
      "7         24  sshirtg.bmp      Clothes  \n",
      "8         24  sshirtb.bmp      Clothes  \n",
      "9         15  shortsb.bmp      Clothes  \n"
     ]
    },
    {
     "name": "stderr",
     "output_type": "stream",
     "text": [
      "C:\\Users\\antho\\AppData\\Local\\Temp\\ipykernel_16600\\2144621771.py:11: UserWarning: pandas only supports SQLAlchemy connectable (engine/connection) or database string URI or sqlite3 DBAPI2 connection. Other DBAPI2 objects are not tested. Please consider using SQLAlchemy.\n",
      "  product_df = pd.read_sql_query(product_query, aec_conn)\n"
     ]
    }
   ],
   "source": [
    "northwind_conn = pyodbc.connect('DRIVER={SQL Server};SERVER=' + DB['servername'] + ';DATABASE=Northwind')\n",
    "adventureworks_conn = pyodbc.connect('DRIVER={SQL Server};SERVER=' + DB['servername'] + ';DATABASE=AdventureWorks2019')\n"
   ]
  },
  {
   "cell_type": "code",
   "execution_count": null,
   "metadata": {},
   "outputs": [],
   "source": [
    "products_query = \"\"\"\n",
    "SELECT NULL AS NewProductID, P.ProductID, P.ProductName, C.Description AS ProductDescription, C.CategoryName AS ProductCategory, \n",
    "       NULL AS Color, NULL AS Size, NULL AS ProductQuantity, P.QuantityPerUnit, CAST(P.UnitPrice AS FLOAT) AS UnitPrice, NULL AS ListPrice, P.UnitsInStock \n",
    "FROM Products P \n",
    "JOIN Categories C ON P.CategoryID = C.CategoryID\n",
    "\"\"\"\n",
    "products_df = pd.read_sql_query(products_query, northwind_conn)\n",
    "products_df['Source'] = 'Northwind'\n",
    "print(products_df)\n"
   ]
  },
  {
   "cell_type": "code",
   "execution_count": null,
   "metadata": {},
   "outputs": [],
   "source": [
    "product_query = \"\"\"\n",
    "SELECT NULL AS NewProductID, id AS ProductID, name AS ProductName, description AS ProductDescription, Category AS ProductCategory, \n",
    "       color AS ProductColor, prod_size AS ProductSize, quantity AS ProductQuantity, NULL AS QuantityPerUnit, unit_price AS UnitPrice, \n",
    "       NULL AS ListPrice, NULL AS UnitsInStock\n",
    "FROM product\n",
    "\"\"\"\n",
    "product_df = pd.read_sql_query(product_query, aec_conn)\n",
    "product_df['Source'] = 'AenC'\n",
    "\n",
    "# Converteer UnitPrice kolom naar float\n",
    "product_df['UnitPrice'] = product_df['UnitPrice'].astype(float)\n",
    "print(product_df)\n"
   ]
  },
  {
   "cell_type": "code",
   "execution_count": null,
   "metadata": {},
   "outputs": [],
   "source": [
    "new_product_query = \"\"\"\n",
    "SELECT NULL AS NewProductID, P.ProductID, P.Name AS ProductName, S.Name AS ProductDescription, C.Name AS ProductCategory, P.Color AS ProductColor, P.Size AS ProductSize, NULL AS ProductQuantity, \n",
    "       NULL AS QuantityPerUnit, CAST(P.StandardCost AS FLOAT) AS UnitPrice, CAST(P.ListPrice AS FLOAT) AS ListPrice, NULL AS UnitsInStock\n",
    "FROM Production.Product P\n",
    "JOIN Production.ProductSubcategory S\n",
    "ON p.ProductSubcategoryID = S.ProductSubcategoryID\n",
    "JOIN Production.ProductCategory C \n",
    "ON S.ProductCategoryID = C.ProductCategoryID\n",
    "\"\"\"\n",
    "new_product_df = pd.read_sql_query(new_product_query, adventureworks_conn)\n",
    "new_product_df['Source'] = 'AdventureWorks'\n",
    "print(new_product_df)\n"
   ]
  },
  {
   "cell_type": "code",
   "execution_count": null,
   "metadata": {},
   "outputs": [],
   "source": [
    "# Voeg de ontbrekende kolommen toe aan elke DataFrame en orden ze in dezelfde volgorde\n",
    "columns = ['NewProductID', 'ProductID', 'Source', 'ProductName', 'ProductDescription', 'ProductCategory', 'ProductColor', 'ProductSize', 'ProductQuantity', \n",
    "           'QuantityPerUnit', 'UnitPrice', 'ListPrice', 'UnitsInStock']\n",
    "\n",
    "products_df = products_df.reindex(columns=columns)\n",
    "product_df = product_df.reindex(columns=columns)\n",
    "new_product_df = new_product_df.reindex(columns=columns)\n",
    "\n",
    "# Combineer de dataframes\n",
    "combined_df = pd.concat([products_df, product_df, new_product_df], ignore_index=True)\n",
    "\n",
    "# Genereer een nieuwe primaire sleutel\n",
    "combined_df['NewProductID'] = range(1, len(combined_df) + 1)\n",
    "\n",
    "# Converteer null waarden naar 0.0 voor UnitPrice en ListPrice\n",
    "combined_df['UnitPrice'] = combined_df['UnitPrice'].fillna(0.0).astype(float)\n",
    "combined_df['ListPrice'] = combined_df['ListPrice'].fillna(0.0).astype(float)\n",
    "\n",
    "# Zorg ervoor dat alle waarden correct zijn getypt\n",
    "combined_df['NewProductID'] = combined_df['NewProductID'].astype(int)\n",
    "combined_df['ProductID'] = combined_df['ProductID'].astype(int)\n",
    "combined_df['Source'] = combined_df['Source'].astype(str)\n",
    "combined_df['ProductName'] = combined_df['ProductName'].astype(str)\n",
    "combined_df['ProductDescription'] = combined_df['ProductDescription'].astype(str)\n",
    "combined_df['ProductCategory'] = combined_df['ProductCategory'].astype(str)\n",
    "combined_df['ProductColor'] = combined_df['ProductColor'].astype(str)\n",
    "combined_df['ProductSize'] = combined_df['ProductSize'].astype(str)\n",
    "combined_df['ProductQuantity'] = combined_df['ProductQuantity'].fillna(0).astype(int)\n",
    "combined_df['QuantityPerUnit'] = combined_df['QuantityPerUnit'].astype(str)\n",
    "combined_df['UnitsInStock'] = combined_df['UnitsInStock'].fillna(0).astype(int)\n",
    "\n",
    "print(combined_df)\n"
   ]
  },
  {
   "cell_type": "code",
   "execution_count": null,
   "metadata": {},
   "outputs": [],
   "source": [
    "# Data laden in de nieuwe database (UnitedOutdoors)\n",
    "for index, row in combined_df.iterrows():\n",
    "    try:\n",
    "        export_cursor.execute(\"\"\"\n",
    "        INSERT INTO Product (NewProductID, ProductID, Source, ProductName, ProductDescription, ProductCategory, ProductColor, ProductSize, ProductQuantity, QuantityPerUnit, UnitPrice, ListPrice, UnitsInStock)\n",
    "        VALUES (?, ?, ?, ?, ?, ?, ?, ?, ?, ?, ?, ?, ?)\n",
    "        \"\"\", row.NewProductID, row.ProductID, row.Source, row.ProductName, row.ProductDescription, row.ProductCategory, row.ProductColor, row.ProductSize, row.ProductQuantity, row.QuantityPerUnit, row.UnitPrice, row.ListPrice, row.UnitsInStock)\n",
    "    except pyodbc.Error as e:\n",
    "        print(f\"Error inserting row {index}: {e}\")\n",
    "        print(row)\n",
    "\n",
    "export_conn.commit()\n"
   ]
  }
 ],
 "metadata": {
  "kernelspec": {
   "display_name": "uo-bedrijf-ZY7TBlVi-py3.12",
   "language": "python",
   "name": "python3"
  },
  "language_info": {
   "codemirror_mode": {
    "name": "ipython",
    "version": 3
   },
   "file_extension": ".py",
   "mimetype": "text/x-python",
   "name": "python",
   "nbconvert_exporter": "python",
   "pygments_lexer": "ipython3",
   "version": "3.12.2"
  }
 },
 "nbformat": 4,
 "nbformat_minor": 2
}
