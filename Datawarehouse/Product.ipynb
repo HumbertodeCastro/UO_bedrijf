{
 "cells": [
  {
   "cell_type": "code",
   "execution_count": 39,
   "metadata": {},
   "outputs": [],
   "source": [
    "import pandas as pd\n",
    "import pyodbc\n",
    "\n",
    "DB = {'servername': 'LAPTOP-LPE28RPE\\SQLEXPRESS', \n",
    "    'database': 'United_outdoors'}\n"
   ]
  },
  {
   "cell_type": "code",
   "execution_count": 40,
   "metadata": {},
   "outputs": [
    {
     "data": {
      "text/plain": [
       "<pyodbc.Cursor at 0x181fbc25db0>"
      ]
     },
     "execution_count": 40,
     "metadata": {},
     "output_type": "execute_result"
    }
   ],
   "source": [
    "export_conn = pyodbc.connect('DRIVER={SQL Server};SERVER=' + DB['servername'] + ';DATABASE=' + DB['database'])\n",
    "export_cursor = export_conn.cursor()\n",
    "export_cursor\n"
   ]
  },
  {
   "cell_type": "code",
   "execution_count": 41,
   "metadata": {},
   "outputs": [],
   "source": [
    "conn_str_access = (\n",
    "    r'DRIVER={Microsoft Access Driver (*.mdb, *.accdb)};'\n",
    "    r'DBQ=C:\\Users\\Humberto de Castro\\OneDrive\\Desktop\\SEM4\\AenC\\aenc.accdb'\n",
    ")\n",
    "aec_conn = pyodbc.connect(conn_str_access)\n"
   ]
  },
  {
   "cell_type": "code",
   "execution_count": 42,
   "metadata": {},
   "outputs": [],
   "source": [
    "northwind_conn = pyodbc.connect('DRIVER={SQL Server};SERVER=' + DB['servername'] + ';DATABASE=Northwind')\n",
    "adventureworks_conn = pyodbc.connect('DRIVER={SQL Server};SERVER=' + DB['servername'] + ';DATABASE=AdventureWorks2019')\n"
   ]
  },
  {
   "cell_type": "markdown",
   "metadata": {},
   "source": [
    "Queries"
   ]
  },
  {
   "cell_type": "code",
   "execution_count": 43,
   "metadata": {},
   "outputs": [
    {
     "name": "stderr",
     "output_type": "stream",
     "text": [
      "C:\\Users\\Humberto de Castro\\AppData\\Local\\Temp\\ipykernel_11136\\2765633308.py:25: UserWarning: pandas only supports SQLAlchemy connectable (engine/connection) or database string URI or sqlite3 DBAPI2 connection. Other DBAPI2 objects are not tested. Please consider using SQLAlchemy.\n",
      "  dataframes[table_name] = pd.read_sql_query(query, adventureworks_conn)\n",
      "C:\\Users\\Humberto de Castro\\AppData\\Local\\Temp\\ipykernel_11136\\2765633308.py:28: UserWarning: pandas only supports SQLAlchemy connectable (engine/connection) or database string URI or sqlite3 DBAPI2 connection. Other DBAPI2 objects are not tested. Please consider using SQLAlchemy.\n",
      "  dataframes[table_name] = pd.read_sql_query(query, northwind_conn)\n",
      "C:\\Users\\Humberto de Castro\\AppData\\Local\\Temp\\ipykernel_11136\\2765633308.py:31: UserWarning: pandas only supports SQLAlchemy connectable (engine/connection) or database string URI or sqlite3 DBAPI2 connection. Other DBAPI2 objects are not tested. Please consider using SQLAlchemy.\n",
      "  dataframes[table_name] = pd.read_sql_query(query, aec_conn)\n"
     ]
    }
   ],
   "source": [
    "AdventureWorks_queries = {\n",
    "    'AW_Product' : 'SELECT * FROM Production.Product',\n",
    "    'AW_ProductSubcategory' : 'SELECT * FROM Production.ProductSubcategory',\n",
    "    'AW_ProductCategory' : 'SELECT * FROM Production.ProductCategory',\n",
    "    'AW_ProductModel' : 'SELECT * FROM Production.ProductModel',\n",
    "    'AW_ProductModelIllustration' : 'SELECT * FROM Production.ProductModelIllustration',\n",
    "    'AW_ProductModelProductDescriptionCulture' : 'SELECT * FROM Production.ProductModelProductDescriptionCulture',\n",
    "    'AW_ProductPhoto' : 'SELECT * FROM Production.ProductPhoto',\n",
    "}\n",
    "\n",
    "Northwind_queries = {\n",
    "    'NW_Product' : 'SELECT * FROM Products',\n",
    "    'Categories' : 'SELECT * FROM Categories'\n",
    "}\n",
    "\n",
    "AenC_queries = {\n",
    "    'AC_Product' : 'SELECT * FROM Product'\n",
    "}\n",
    "\n",
    "dataframes = {}\n",
    "\n",
    "# Lees elke tabel in een DataFrame\n",
    "\n",
    "for table_name, query in AdventureWorks_queries.items():\n",
    "    dataframes[table_name] = pd.read_sql_query(query, adventureworks_conn)\n",
    "\n",
    "for table_name, query in Northwind_queries.items():\n",
    "    dataframes[table_name] = pd.read_sql_query(query, northwind_conn)\n",
    "\n",
    "for table_name, query in AenC_queries.items():\n",
    "    dataframes[table_name] = pd.read_sql_query(query, aec_conn)\n",
    "\n",
    "#als je ik elk tabel als een dataframe/ variabele wil behandelen of aanroepen moet ik dit uitvoeren.\n",
    "for table_name, df in dataframes.items():\n",
    "    globals()[table_name] = df"
   ]
  },
  {
   "cell_type": "markdown",
   "metadata": {},
   "source": [
    "AdventureWorks"
   ]
  },
  {
   "cell_type": "code",
   "execution_count": 44,
   "metadata": {},
   "outputs": [],
   "source": [
    "# Merge DataFrames for AdventureWorks product information\n",
    "AW_Product = pd.merge(AW_Product, AW_ProductSubcategory, left_on='ProductSubcategoryID', right_on='ProductSubcategoryID', suffixes=('', '_subcat'))\n",
    "AW_Product = pd.merge(AW_Product, AW_ProductCategory, left_on='ProductCategoryID', right_on='ProductCategoryID', suffixes=('', '_cat'))"
   ]
  },
  {
   "cell_type": "markdown",
   "metadata": {},
   "source": [
    "Northwind"
   ]
  },
  {
   "cell_type": "code",
   "execution_count": 45,
   "metadata": {},
   "outputs": [],
   "source": [
    "# Merge NW_Product with Categories to get product category information\n",
    "NW_Product = pd.merge(NW_Product, Categories, on='CategoryID', suffixes=('', '_Category'))"
   ]
  },
  {
   "cell_type": "markdown",
   "metadata": {},
   "source": [
    "AenC"
   ]
  },
  {
   "cell_type": "code",
   "execution_count": 46,
   "metadata": {},
   "outputs": [
    {
     "name": "stdout",
     "output_type": "stream",
     "text": [
      "    id          name        description          prod_size   color quantity  \\\n",
      "0  300     Tee Shirt           Tank Top              Small   White       18   \n",
      "1  301     Tee Shirt             V-neck             Medium  Orange       39   \n",
      "2  302     Tee Shirt          Crew Neck  One size fits all   Black       72   \n",
      "3  400  Baseball Cap         Cotton Cap  One size fits all   Black       92   \n",
      "4  401  Baseball Cap           Wool cap  One size fits all   White       12   \n",
      "5  500         Visor        Cloth Visor  One size fits all   White       36   \n",
      "6  501         Visor      Plastic Visor  One size fits all   Black       28   \n",
      "7  600    Sweatshirt  Hooded Sweatshirt              Large   Green       39   \n",
      "8  601    Sweatshirt  Zipped Sweatshirt              Large    Blue       32   \n",
      "9  700        Shorts      Cotton Shorts             Medium   Black       80   \n",
      "\n",
      "  unit_price picture_name     Category  \n",
      "0          9  tshirtw.bmp      Clothes  \n",
      "1         14  tshirto.bmp      Clothes  \n",
      "2         14  tshirtb.bmp      Clothes  \n",
      "3          9     capb.bmp  Accessories  \n",
      "4         10     capw.bmp  Accessories  \n",
      "5          7   visorw.bmp  Accessories  \n",
      "6          7   visorb.bmp  Accessories  \n",
      "7         24  sshirtg.bmp      Clothes  \n",
      "8         24  sshirtb.bmp      Clothes  \n",
      "9         15  shortsb.bmp      Clothes  \n"
     ]
    }
   ],
   "source": [
    "print(AC_Product)"
   ]
  },
  {
   "cell_type": "markdown",
   "metadata": {},
   "source": [
    "Rename"
   ]
  },
  {
   "cell_type": "code",
   "execution_count": 47,
   "metadata": {},
   "outputs": [],
   "source": [
    "# Hernoem de kolommen voor Northwind products\n",
    "NW_Product.rename(columns={\n",
    "    'ProductID': 'ProductID',\n",
    "    'ProductName': 'ProductName',\n",
    "    'ProductDescription': 'ProductDescription',\n",
    "    'ProductCategory': 'ProductCategory',\n",
    "    'ProductColor': 'ProductColor',\n",
    "    'ProductSize': 'ProductSize',\n",
    "    'ProductQuantity': 'ProductQuantity',\n",
    "    'QuantityPerUnit': 'QuantityPerUnit',\n",
    "    'UnitPrice': 'UnitPrice',\n",
    "    'ListPrice': 'ListPrice',\n",
    "    'UnitsInStock': 'UnitsInStock'\n",
    "}, inplace=True)\n",
    "\n",
    "# Hernoem de kolommen voor AenC products\n",
    "AC_Product.rename(columns={\n",
    "    'ProductID': 'ProductID',\n",
    "    'ProductName': 'ProductName',\n",
    "    'ProductDescription': 'ProductDescription',\n",
    "    'ProductCategory': 'ProductCategory',\n",
    "    'ProductColor': 'ProductColor',\n",
    "    'ProductSize': 'ProductSize',\n",
    "    'ProductQuantity': 'ProductQuantity',\n",
    "    'QuantityPerUnit': 'QuantityPerUnit',\n",
    "    'UnitPrice': 'UnitPrice',\n",
    "    'ListPrice': 'ListPrice',\n",
    "    'UnitsInStock': 'UnitsInStock'\n",
    "}, inplace=True)\n",
    "\n",
    "# Hernoem de kolommen voor AdventureWorks products\n",
    "AW_Product.rename(columns={\n",
    "    'ProductID': 'ProductID',\n",
    "    'ProductName': 'ProductName',\n",
    "    'ProductDescription': 'ProductDescription',\n",
    "    'ProductCategory': 'ProductCategory',\n",
    "    'ProductColor': 'ProductColor',\n",
    "    'ProductSize': 'ProductSize',\n",
    "    'ProductQuantity': 'ProductQuantity',\n",
    "    'QuantityPerUnit': 'QuantityPerUnit',\n",
    "    'UnitPrice': 'UnitPrice',\n",
    "    'ListPrice': 'ListPrice',\n",
    "    'UnitsInStock': 'UnitsInStock'\n",
    "}, inplace=True)"
   ]
  },
  {
   "cell_type": "code",
   "execution_count": 48,
   "metadata": {},
   "outputs": [
    {
     "ename": "KeyError",
     "evalue": "'ProductID'",
     "output_type": "error",
     "traceback": [
      "\u001b[1;31m---------------------------------------------------------------------------\u001b[0m",
      "\u001b[1;31mKeyError\u001b[0m                                  Traceback (most recent call last)",
      "File \u001b[1;32mc:\\Users\\Humberto de Castro\\AppData\\Local\\pypoetry\\Cache\\virtualenvs\\uo-bedrijf-V1uT7Q__-py3.11\\Lib\\site-packages\\pandas\\core\\indexes\\base.py:3805\u001b[0m, in \u001b[0;36mIndex.get_loc\u001b[1;34m(self, key)\u001b[0m\n\u001b[0;32m   3804\u001b[0m \u001b[38;5;28;01mtry\u001b[39;00m:\n\u001b[1;32m-> 3805\u001b[0m     \u001b[38;5;28;01mreturn\u001b[39;00m \u001b[38;5;28;43mself\u001b[39;49m\u001b[38;5;241;43m.\u001b[39;49m\u001b[43m_engine\u001b[49m\u001b[38;5;241;43m.\u001b[39;49m\u001b[43mget_loc\u001b[49m\u001b[43m(\u001b[49m\u001b[43mcasted_key\u001b[49m\u001b[43m)\u001b[49m\n\u001b[0;32m   3806\u001b[0m \u001b[38;5;28;01mexcept\u001b[39;00m \u001b[38;5;167;01mKeyError\u001b[39;00m \u001b[38;5;28;01mas\u001b[39;00m err:\n",
      "File \u001b[1;32mindex.pyx:167\u001b[0m, in \u001b[0;36mpandas._libs.index.IndexEngine.get_loc\u001b[1;34m()\u001b[0m\n",
      "File \u001b[1;32mindex.pyx:196\u001b[0m, in \u001b[0;36mpandas._libs.index.IndexEngine.get_loc\u001b[1;34m()\u001b[0m\n",
      "File \u001b[1;32mpandas\\\\_libs\\\\hashtable_class_helper.pxi:7081\u001b[0m, in \u001b[0;36mpandas._libs.hashtable.PyObjectHashTable.get_item\u001b[1;34m()\u001b[0m\n",
      "File \u001b[1;32mpandas\\\\_libs\\\\hashtable_class_helper.pxi:7089\u001b[0m, in \u001b[0;36mpandas._libs.hashtable.PyObjectHashTable.get_item\u001b[1;34m()\u001b[0m\n",
      "\u001b[1;31mKeyError\u001b[0m: 'ProductID'",
      "\nThe above exception was the direct cause of the following exception:\n",
      "\u001b[1;31mKeyError\u001b[0m                                  Traceback (most recent call last)",
      "Cell \u001b[1;32mIn[48], line 7\u001b[0m\n\u001b[0;32m      5\u001b[0m \u001b[38;5;66;03m# Prefixes toevoegen aan ProductID\u001b[39;00m\n\u001b[0;32m      6\u001b[0m NW_Product[\u001b[38;5;124m'\u001b[39m\u001b[38;5;124mProductID\u001b[39m\u001b[38;5;124m'\u001b[39m] \u001b[38;5;241m=\u001b[39m NW_Product[\u001b[38;5;124m'\u001b[39m\u001b[38;5;124mProductID\u001b[39m\u001b[38;5;124m'\u001b[39m]\u001b[38;5;241m.\u001b[39mapply(\u001b[38;5;28;01mlambda\u001b[39;00m x: \u001b[38;5;124mf\u001b[39m\u001b[38;5;124m'\u001b[39m\u001b[38;5;124mNW_\u001b[39m\u001b[38;5;132;01m{\u001b[39;00mx\u001b[38;5;132;01m}\u001b[39;00m\u001b[38;5;124m'\u001b[39m)\n\u001b[1;32m----> 7\u001b[0m AC_Product[\u001b[38;5;124m'\u001b[39m\u001b[38;5;124mProductID\u001b[39m\u001b[38;5;124m'\u001b[39m] \u001b[38;5;241m=\u001b[39m \u001b[43mAC_Product\u001b[49m\u001b[43m[\u001b[49m\u001b[38;5;124;43m'\u001b[39;49m\u001b[38;5;124;43mProductID\u001b[39;49m\u001b[38;5;124;43m'\u001b[39;49m\u001b[43m]\u001b[49m\u001b[38;5;241m.\u001b[39mapply(\u001b[38;5;28;01mlambda\u001b[39;00m x: \u001b[38;5;124mf\u001b[39m\u001b[38;5;124m'\u001b[39m\u001b[38;5;124mAC_\u001b[39m\u001b[38;5;132;01m{\u001b[39;00mx\u001b[38;5;132;01m}\u001b[39;00m\u001b[38;5;124m'\u001b[39m)\n\u001b[0;32m      8\u001b[0m AW_Product[\u001b[38;5;124m'\u001b[39m\u001b[38;5;124mProductID\u001b[39m\u001b[38;5;124m'\u001b[39m] \u001b[38;5;241m=\u001b[39m AW_Product[\u001b[38;5;124m'\u001b[39m\u001b[38;5;124mProductID\u001b[39m\u001b[38;5;124m'\u001b[39m]\u001b[38;5;241m.\u001b[39mapply(\u001b[38;5;28;01mlambda\u001b[39;00m x: \u001b[38;5;124mf\u001b[39m\u001b[38;5;124m'\u001b[39m\u001b[38;5;124mAW_\u001b[39m\u001b[38;5;132;01m{\u001b[39;00mx\u001b[38;5;132;01m}\u001b[39;00m\u001b[38;5;124m'\u001b[39m)\n\u001b[0;32m     10\u001b[0m \u001b[38;5;66;03m# Combineer de dataframes\u001b[39;00m\n",
      "File \u001b[1;32mc:\\Users\\Humberto de Castro\\AppData\\Local\\pypoetry\\Cache\\virtualenvs\\uo-bedrijf-V1uT7Q__-py3.11\\Lib\\site-packages\\pandas\\core\\frame.py:4102\u001b[0m, in \u001b[0;36mDataFrame.__getitem__\u001b[1;34m(self, key)\u001b[0m\n\u001b[0;32m   4100\u001b[0m \u001b[38;5;28;01mif\u001b[39;00m \u001b[38;5;28mself\u001b[39m\u001b[38;5;241m.\u001b[39mcolumns\u001b[38;5;241m.\u001b[39mnlevels \u001b[38;5;241m>\u001b[39m \u001b[38;5;241m1\u001b[39m:\n\u001b[0;32m   4101\u001b[0m     \u001b[38;5;28;01mreturn\u001b[39;00m \u001b[38;5;28mself\u001b[39m\u001b[38;5;241m.\u001b[39m_getitem_multilevel(key)\n\u001b[1;32m-> 4102\u001b[0m indexer \u001b[38;5;241m=\u001b[39m \u001b[38;5;28;43mself\u001b[39;49m\u001b[38;5;241;43m.\u001b[39;49m\u001b[43mcolumns\u001b[49m\u001b[38;5;241;43m.\u001b[39;49m\u001b[43mget_loc\u001b[49m\u001b[43m(\u001b[49m\u001b[43mkey\u001b[49m\u001b[43m)\u001b[49m\n\u001b[0;32m   4103\u001b[0m \u001b[38;5;28;01mif\u001b[39;00m is_integer(indexer):\n\u001b[0;32m   4104\u001b[0m     indexer \u001b[38;5;241m=\u001b[39m [indexer]\n",
      "File \u001b[1;32mc:\\Users\\Humberto de Castro\\AppData\\Local\\pypoetry\\Cache\\virtualenvs\\uo-bedrijf-V1uT7Q__-py3.11\\Lib\\site-packages\\pandas\\core\\indexes\\base.py:3812\u001b[0m, in \u001b[0;36mIndex.get_loc\u001b[1;34m(self, key)\u001b[0m\n\u001b[0;32m   3807\u001b[0m     \u001b[38;5;28;01mif\u001b[39;00m \u001b[38;5;28misinstance\u001b[39m(casted_key, \u001b[38;5;28mslice\u001b[39m) \u001b[38;5;129;01mor\u001b[39;00m (\n\u001b[0;32m   3808\u001b[0m         \u001b[38;5;28misinstance\u001b[39m(casted_key, abc\u001b[38;5;241m.\u001b[39mIterable)\n\u001b[0;32m   3809\u001b[0m         \u001b[38;5;129;01mand\u001b[39;00m \u001b[38;5;28many\u001b[39m(\u001b[38;5;28misinstance\u001b[39m(x, \u001b[38;5;28mslice\u001b[39m) \u001b[38;5;28;01mfor\u001b[39;00m x \u001b[38;5;129;01min\u001b[39;00m casted_key)\n\u001b[0;32m   3810\u001b[0m     ):\n\u001b[0;32m   3811\u001b[0m         \u001b[38;5;28;01mraise\u001b[39;00m InvalidIndexError(key)\n\u001b[1;32m-> 3812\u001b[0m     \u001b[38;5;28;01mraise\u001b[39;00m \u001b[38;5;167;01mKeyError\u001b[39;00m(key) \u001b[38;5;28;01mfrom\u001b[39;00m \u001b[38;5;21;01merr\u001b[39;00m\n\u001b[0;32m   3813\u001b[0m \u001b[38;5;28;01mexcept\u001b[39;00m \u001b[38;5;167;01mTypeError\u001b[39;00m:\n\u001b[0;32m   3814\u001b[0m     \u001b[38;5;66;03m# If we have a listlike key, _check_indexing_error will raise\u001b[39;00m\n\u001b[0;32m   3815\u001b[0m     \u001b[38;5;66;03m#  InvalidIndexError. Otherwise we fall through and re-raise\u001b[39;00m\n\u001b[0;32m   3816\u001b[0m     \u001b[38;5;66;03m#  the TypeError.\u001b[39;00m\n\u001b[0;32m   3817\u001b[0m     \u001b[38;5;28mself\u001b[39m\u001b[38;5;241m.\u001b[39m_check_indexing_error(key)\n",
      "\u001b[1;31mKeyError\u001b[0m: 'ProductID'"
     ]
    }
   ],
   "source": [
    "# Voeg de ontbrekende kolommen toe aan elke DataFrame en orden ze in dezelfde volgorde\n",
    "columns = ['ProductID', 'Source', 'ProductName', 'ProductDescription', 'ProductCategory', 'ProductColor', 'ProductSize', 'ProductQuantity', \n",
    "           'QuantityPerUnit', 'UnitPrice', 'ListPrice', 'UnitsInStock']\n",
    "\n",
    "# Prefixes toevoegen aan ProductID\n",
    "NW_Product['ProductID'] = NW_Product['ProductID'].apply(lambda x: f'NW_{x}')\n",
    "AC_Product['ProductID'] = AC_Product['ProductID'].apply(lambda x: f'AC_{x}')\n",
    "AW_Product['ProductID'] = AW_Product['ProductID'].apply(lambda x: f'AW_{x}')\n",
    "\n",
    "# Combineer de dataframes\n",
    "Product = pd.concat([AW_Product, NW_Product, AC_Product], ignore_index=True)\n",
    "\n",
    "print(Product)\n"
   ]
  },
  {
   "cell_type": "code",
   "execution_count": 13,
   "metadata": {},
   "outputs": [],
   "source": [
    "# Data laden in de nieuwe database (UnitedOutdoors)\n",
    "for index, row in Employee.iterrows():\n",
    "    try:\n",
    "        export_cursor.execute(\"\"\"\n",
    "        INSERT INTO Employee (EmployeeID, FirstName, LastName, Region, Country, State, City, PostalCode, Address, DepartmentID, Job_title, Birth_date, Hire_date, Gender, Years_in_Service)\n",
    "        VALUES (?, ?, ?, ?, ?, ?, ?, ?, ?, ?, ?, ?, ?, ?, ?)\n",
    "        \"\"\", \n",
    "        row.EmployeeID if pd.notnull(row.EmployeeID) else None, \n",
    "        row.FirstName if pd.notnull(row.FirstName) else None, \n",
    "        row.LastName if pd.notnull(row.LastName) else None, \n",
    "        row.Region if pd.notnull(row.Region) else None, \n",
    "        row.Country if pd.notnull(row.Country) else None, \n",
    "        row.State if pd.notnull(row.State) else None, \n",
    "        row.City if pd.notnull(row.City) else None, \n",
    "        row.PostalCode if pd.notnull(row.PostalCode) else None, \n",
    "        row.Address if pd.notnull(row.Address) else None, \n",
    "        int(row.DepartmentID) if pd.notnull(row.DepartmentID) else None, \n",
    "        row.Job_title if pd.notnull(row.Job_title) else None, \n",
    "        row.Birth_date if pd.notnull(row.Birth_date) else None, \n",
    "        row.Hire_date if pd.notnull(row.Hire_date) else None, \n",
    "        row.Gender if pd.notnull(row.Gender) else None, \n",
    "        row.Years_in_Service if pd.notnull(row.Years_in_Service) else None\n",
    "        )\n",
    "    except pyodbc.Error as e:\n",
    "        print(f\"Error inserting row {index}: {e}\")\n",
    "        print(row)\n",
    "\n",
    "export_conn.commit()"
   ]
  }
 ],
 "metadata": {
  "kernelspec": {
   "display_name": "uo-bedrijf-ZY7TBlVi-py3.12",
   "language": "python",
   "name": "python3"
  },
  "language_info": {
   "codemirror_mode": {
    "name": "ipython",
    "version": 3
   },
   "file_extension": ".py",
   "mimetype": "text/x-python",
   "name": "python",
   "nbconvert_exporter": "python",
   "pygments_lexer": "ipython3",
   "version": "3.11.8"
  }
 },
 "nbformat": 4,
 "nbformat_minor": 2
}
