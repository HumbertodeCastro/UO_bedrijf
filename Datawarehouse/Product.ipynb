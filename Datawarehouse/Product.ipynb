{
 "cells": [
  {
   "cell_type": "code",
   "execution_count": 1,
   "metadata": {},
   "outputs": [],
   "source": [
    "import pandas as pd\n",
    "import pyodbc\n",
    "\n",
    "DB = {'servername': 'LAPTOP-LPE28RPE\\SQLEXPRESS', \n",
    "    'database': 'United_outdoors'}\n"
   ]
  },
  {
   "cell_type": "code",
   "execution_count": 2,
   "metadata": {},
   "outputs": [
    {
     "data": {
      "text/plain": [
       "<pyodbc.Cursor at 0x18996f2ea30>"
      ]
     },
     "execution_count": 2,
     "metadata": {},
     "output_type": "execute_result"
    }
   ],
   "source": [
    "export_conn = pyodbc.connect('DRIVER={SQL Server};SERVER=' + DB['servername'] + ';DATABASE=' + DB['database'])\n",
    "export_cursor = export_conn.cursor()\n",
    "export_cursor\n"
   ]
  },
  {
   "cell_type": "code",
   "execution_count": 3,
   "metadata": {},
   "outputs": [],
   "source": [
    "conn_str_access = (\n",
    "    r'DRIVER={Microsoft Access Driver (*.mdb, *.accdb)};'\n",
    "    r'DBQ=C:\\Users\\Humberto de Castro\\OneDrive\\Desktop\\SEM4\\AenC\\aenc.accdb'\n",
    ")\n",
    "aec_conn = pyodbc.connect(conn_str_access)\n"
   ]
  },
  {
   "cell_type": "code",
   "execution_count": 4,
   "metadata": {},
   "outputs": [],
   "source": [
    "northwind_conn = pyodbc.connect('DRIVER={SQL Server};SERVER=' + DB['servername'] + ';DATABASE=Northwind')\n",
    "adventureworks_conn = pyodbc.connect('DRIVER={SQL Server};SERVER=' + DB['servername'] + ';DATABASE=AdventureWorks2019')\n"
   ]
  },
  {
   "cell_type": "markdown",
   "metadata": {},
   "source": [
    "Queries"
   ]
  },
  {
   "cell_type": "code",
   "execution_count": 5,
   "metadata": {},
   "outputs": [
    {
     "name": "stderr",
     "output_type": "stream",
     "text": [
      "C:\\Users\\Humberto de Castro\\AppData\\Local\\Temp\\ipykernel_90832\\2765633308.py:25: UserWarning: pandas only supports SQLAlchemy connectable (engine/connection) or database string URI or sqlite3 DBAPI2 connection. Other DBAPI2 objects are not tested. Please consider using SQLAlchemy.\n",
      "  dataframes[table_name] = pd.read_sql_query(query, adventureworks_conn)\n",
      "C:\\Users\\Humberto de Castro\\AppData\\Local\\Temp\\ipykernel_90832\\2765633308.py:28: UserWarning: pandas only supports SQLAlchemy connectable (engine/connection) or database string URI or sqlite3 DBAPI2 connection. Other DBAPI2 objects are not tested. Please consider using SQLAlchemy.\n",
      "  dataframes[table_name] = pd.read_sql_query(query, northwind_conn)\n",
      "C:\\Users\\Humberto de Castro\\AppData\\Local\\Temp\\ipykernel_90832\\2765633308.py:31: UserWarning: pandas only supports SQLAlchemy connectable (engine/connection) or database string URI or sqlite3 DBAPI2 connection. Other DBAPI2 objects are not tested. Please consider using SQLAlchemy.\n",
      "  dataframes[table_name] = pd.read_sql_query(query, aec_conn)\n"
     ]
    }
   ],
   "source": [
    "AdventureWorks_queries = {\n",
    "    'AW_Product' : 'SELECT * FROM Production.Product',\n",
    "    'AW_ProductSubcategory' : 'SELECT * FROM Production.ProductSubcategory',\n",
    "    'AW_ProductCategory' : 'SELECT * FROM Production.ProductCategory',\n",
    "    'AW_ProductModel' : 'SELECT * FROM Production.ProductModel',\n",
    "    'AW_ProductModelIllustration' : 'SELECT * FROM Production.ProductModelIllustration',\n",
    "    'AW_ProductModelProductDescriptionCulture' : 'SELECT * FROM Production.ProductModelProductDescriptionCulture',\n",
    "    'AW_ProductPhoto' : 'SELECT * FROM Production.ProductPhoto',\n",
    "}\n",
    "\n",
    "Northwind_queries = {\n",
    "    'NW_Product' : 'SELECT * FROM Products',\n",
    "    'Categories' : 'SELECT * FROM Categories'\n",
    "}\n",
    "\n",
    "AenC_queries = {\n",
    "    'AC_Product' : 'SELECT * FROM Product'\n",
    "}\n",
    "\n",
    "dataframes = {}\n",
    "\n",
    "# Lees elke tabel in een DataFrame\n",
    "\n",
    "for table_name, query in AdventureWorks_queries.items():\n",
    "    dataframes[table_name] = pd.read_sql_query(query, adventureworks_conn)\n",
    "\n",
    "for table_name, query in Northwind_queries.items():\n",
    "    dataframes[table_name] = pd.read_sql_query(query, northwind_conn)\n",
    "\n",
    "for table_name, query in AenC_queries.items():\n",
    "    dataframes[table_name] = pd.read_sql_query(query, aec_conn)\n",
    "\n",
    "#als je ik elk tabel als een dataframe/ variabele wil behandelen of aanroepen moet ik dit uitvoeren.\n",
    "for table_name, df in dataframes.items():\n",
    "    globals()[table_name] = df"
   ]
  },
  {
   "cell_type": "markdown",
   "metadata": {},
   "source": [
    "AdventureWorks"
   ]
  },
  {
   "cell_type": "code",
   "execution_count": 6,
   "metadata": {},
   "outputs": [],
   "source": [
    "# Merge DataFrames for AdventureWorks product information\n",
    "AW_Product = pd.merge(AW_Product, AW_ProductSubcategory, left_on='ProductSubcategoryID', right_on='ProductSubcategoryID', suffixes=('', '_subcat'))\n",
    "AW_Product = pd.merge(AW_Product, AW_ProductCategory, left_on='ProductCategoryID', right_on='ProductCategoryID', suffixes=('', '_cat'))"
   ]
  },
  {
   "cell_type": "markdown",
   "metadata": {},
   "source": [
    "Northwind"
   ]
  },
  {
   "cell_type": "code",
   "execution_count": 7,
   "metadata": {},
   "outputs": [],
   "source": [
    "# Merge NW_Product with Categories to get product category information\n",
    "NW_Product = pd.merge(NW_Product, Categories, on='CategoryID', suffixes=('', '_Category'))"
   ]
  },
  {
   "cell_type": "markdown",
   "metadata": {},
   "source": [
    "AenC"
   ]
  },
  {
   "cell_type": "code",
   "execution_count": 8,
   "metadata": {},
   "outputs": [
    {
     "name": "stdout",
     "output_type": "stream",
     "text": [
      "    id          name        description          prod_size   color quantity  \\\n",
      "0  300     Tee Shirt           Tank Top              Small   White       18   \n",
      "1  301     Tee Shirt             V-neck             Medium  Orange       39   \n",
      "2  302     Tee Shirt          Crew Neck  One size fits all   Black       72   \n",
      "3  400  Baseball Cap         Cotton Cap  One size fits all   Black       92   \n",
      "4  401  Baseball Cap           Wool cap  One size fits all   White       12   \n",
      "5  500         Visor        Cloth Visor  One size fits all   White       36   \n",
      "6  501         Visor      Plastic Visor  One size fits all   Black       28   \n",
      "7  600    Sweatshirt  Hooded Sweatshirt              Large   Green       39   \n",
      "8  601    Sweatshirt  Zipped Sweatshirt              Large    Blue       32   \n",
      "9  700        Shorts      Cotton Shorts             Medium   Black       80   \n",
      "\n",
      "  unit_price picture_name     Category  \n",
      "0          9  tshirtw.bmp      Clothes  \n",
      "1         14  tshirto.bmp      Clothes  \n",
      "2         14  tshirtb.bmp      Clothes  \n",
      "3          9     capb.bmp  Accessories  \n",
      "4         10     capw.bmp  Accessories  \n",
      "5          7   visorw.bmp  Accessories  \n",
      "6          7   visorb.bmp  Accessories  \n",
      "7         24  sshirtg.bmp      Clothes  \n",
      "8         24  sshirtb.bmp      Clothes  \n",
      "9         15  shortsb.bmp      Clothes  \n"
     ]
    }
   ],
   "source": [
    "print(AC_Product)"
   ]
  },
  {
   "cell_type": "markdown",
   "metadata": {},
   "source": [
    "Data aanpassen"
   ]
  },
  {
   "cell_type": "code",
   "execution_count": 9,
   "metadata": {},
   "outputs": [],
   "source": [
    "# Vervang de waarden in de 'ProductSize' kolom van AC_Product\n",
    "AC_Product['prod_size'] = AC_Product['prod_size'].replace({'Medium': 'M', 'Large': 'L', 'Small': 'S'})\n",
    "\n",
    "# Vervang 'AC clothes' door 'Clothes' in de 'ProductCategory' kolom van AC_Product\n",
    "AC_Product['Category'] = AC_Product['Category'].replace({'clothes': 'Clothing'})"
   ]
  },
  {
   "cell_type": "markdown",
   "metadata": {},
   "source": [
    "Rename"
   ]
  },
  {
   "cell_type": "code",
   "execution_count": 10,
   "metadata": {},
   "outputs": [],
   "source": [
    "# Hernoem de kolommen voor Northwind products\n",
    "NW_Product.rename(columns={\n",
    "    'ProductID': 'ProductID',\n",
    "    'ProductName': 'ProductName',\n",
    "    'Description': 'ProductDescription',  # Aanpassing\n",
    "    'CategoryName': 'ProductCategory',  # Aanpassing\n",
    "    'Color': 'ProductColor',\n",
    "    'Size': 'ProductSize',\n",
    "    'Quantity': 'ProductQuantity',\n",
    "    'QuantityPerUnit': 'QuantityPerUnit',\n",
    "    'UnitPrice': 'UnitPrice',\n",
    "    'ListPrice': 'ListPrice',\n",
    "    'UnitsInStock': 'UnitsInStock'\n",
    "}, inplace=True)\n",
    "\n",
    "# Hernoem de kolommen voor AenC products\n",
    "AC_Product.rename(columns={\n",
    "    'id': 'ProductID',  # Aanpassing\n",
    "    'name': 'ProductName',  # Aanpassing\n",
    "    'description': 'ProductDescription',  # Aanpassing\n",
    "    'Category': 'ProductCategory',  # Aanpassing\n",
    "    'color': 'ProductColor',\n",
    "    'prod_size': 'ProductSize',  # Aanpassing\n",
    "    'quantity': 'ProductQuantity',  # Aanpassing\n",
    "    'QuantityPerUnit': 'QuantityPerUnit',\n",
    "    'unit_price': 'UnitPrice',  # Aanpassing\n",
    "    'ListPrice': 'ListPrice',\n",
    "    'UnitsInStock': 'UnitsInStock'\n",
    "}, inplace=True)\n",
    "\n",
    "# Hernoem de kolommen voor AdventureWorks products\n",
    "AW_Product.rename(columns={\n",
    "    'ProductID': 'ProductID',\n",
    "    'Name': 'ProductName',  # Aanpassing\n",
    "    'Name_subcat': 'ProductDescription',  # Aanpassing\n",
    "    'Name_cat': 'ProductCategory',  # Aanpassing\n",
    "    'Color': 'ProductColor',\n",
    "    'Size': 'ProductSize',\n",
    "    'ProductQuantity': 'ProductQuantity',\n",
    "    'QuantityPerUnit': 'QuantityPerUnit',\n",
    "    'StandardCost': 'UnitPrice',  # Aanpassing\n",
    "    'ListPrice': 'ListPrice',\n",
    "    'UnitsInStock': 'UnitsInStock'\n",
    "}, inplace=True)"
   ]
  },
  {
   "cell_type": "code",
   "execution_count": 11,
   "metadata": {},
   "outputs": [],
   "source": [
    "# Voeg de ontbrekende kolommen toe aan elke DataFrame en orden ze in dezelfde volgorde\n",
    "columns = ['ProductID', 'Source', 'ProductName', 'ProductDescription', 'ProductCategory', 'ProductColor', 'ProductSize', 'ProductQuantity', \n",
    "           'QuantityPerUnit', 'UnitPrice', 'ListPrice', 'UnitsInStock']\n",
    "\n",
    "# Prefixes toevoegen aan ProductID\n",
    "NW_Product['ProductID'] = NW_Product['ProductID'].apply(lambda x: f'NW_{x}')\n",
    "AC_Product['ProductID'] = AC_Product['ProductID'].apply(lambda x: f'AC_{x}')\n",
    "AW_Product['ProductID'] = AW_Product['ProductID'].apply(lambda x: f'AW_{x}')\n",
    "\n",
    "# Combineer de dataframes\n",
    "Product = pd.concat([AW_Product, NW_Product, AC_Product], ignore_index=True)\n",
    "\n",
    "\n"
   ]
  },
  {
   "cell_type": "markdown",
   "metadata": {},
   "source": [
    "Data aanpassen"
   ]
  },
  {
   "cell_type": "code",
   "execution_count": 12,
   "metadata": {},
   "outputs": [],
   "source": [
    "# Data laden in de nieuwe database (UnitedOutdoors)\n",
    "for index, row in Product.iterrows():\n",
    "    try:\n",
    "        export_cursor.execute(\"\"\"\n",
    "        INSERT INTO Product (ProductID, ProductName, ProductDescription, ProductCategory, ProductColor, ProductSize, ProductQuantity, \n",
    "                             QuantityPerUnit, UnitPrice, ListPrice, UnitsInStock)\n",
    "        VALUES (?, ?, ?, ?, ?, ?, ?, ?, ?, ?, ?)\n",
    "        \"\"\", \n",
    "        row.ProductID if pd.notnull(row.ProductID) else None, \n",
    "        row.ProductName if pd.notnull(row.ProductName) else None, \n",
    "        row.ProductDescription if pd.notnull(row.ProductDescription) else None, \n",
    "        row.ProductCategory if pd.notnull(row.ProductCategory) else None, \n",
    "        row.ProductColor if pd.notnull(row.ProductColor) else None, \n",
    "        row.ProductSize if pd.notnull(row.ProductSize) else None, \n",
    "        row.ProductQuantity if pd.notnull(row.ProductQuantity) else None, \n",
    "        row.QuantityPerUnit if pd.notnull(row.QuantityPerUnit) else None, \n",
    "        row.UnitPrice if pd.notnull(row.UnitPrice) else None, \n",
    "        row.ListPrice if pd.notnull(row.ListPrice) else None, \n",
    "        row.UnitsInStock if pd.notnull(row.UnitsInStock) else None\n",
    "        )\n",
    "    except pyodbc.Error as e:\n",
    "        print(f\"Error inserting row {index}: {e}\")\n",
    "        print(row)\n",
    "\n",
    "export_conn.commit()"
   ]
  }
 ],
 "metadata": {
  "kernelspec": {
   "display_name": "uo-bedrijf-ZY7TBlVi-py3.12",
   "language": "python",
   "name": "python3"
  },
  "language_info": {
   "codemirror_mode": {
    "name": "ipython",
    "version": 3
   },
   "file_extension": ".py",
   "mimetype": "text/x-python",
   "name": "python",
   "nbconvert_exporter": "python",
   "pygments_lexer": "ipython3",
   "version": "3.11.8"
  }
 },
 "nbformat": 4,
 "nbformat_minor": 2
}
