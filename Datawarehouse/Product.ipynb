{
 "cells": [
  {
   "cell_type": "code",
   "execution_count": 24,
   "metadata": {},
   "outputs": [],
   "source": [
    "import pandas as pd\n",
    "import pyodbc\n",
    "\n",
    "\n"
   ]
  },
  {
   "cell_type": "code",
   "execution_count": 25,
   "metadata": {},
   "outputs": [
    {
     "name": "stderr",
     "output_type": "stream",
     "text": [
      "<>:1: SyntaxWarning: invalid escape sequence '\\S'\n",
      "<>:1: SyntaxWarning: invalid escape sequence '\\S'\n",
      "C:\\Users\\antho\\AppData\\Local\\Temp\\ipykernel_16600\\944234878.py:1: SyntaxWarning: invalid escape sequence '\\S'\n",
      "  DB = {'servername': 'LAPTOP-105ECA33\\SQLEXPRESS',\n"
     ]
    },
    {
     "data": {
      "text/plain": [
       "<pyodbc.Cursor at 0x20d529c2730>"
      ]
     },
     "execution_count": 25,
     "metadata": {},
     "output_type": "execute_result"
    }
   ],
   "source": [
    "DB = {'servername': 'LAPTOP-105ECA33\\SQLEXPRESS', \n",
    "    'database': 'UnitedOutdoors'}\n",
    "\n",
    "export_conn = pyodbc.connect('DRIVER={SQL Server};SERVER=' + DB['servername'] + \n",
    "                              ';DATABASE=' + DB['database'])\n",
    "\n",
    "export_cursor = export_conn.cursor()\n",
    "export_cursor  "
   ]
  },
  {
   "cell_type": "code",
   "execution_count": 26,
   "metadata": {},
   "outputs": [
    {
     "name": "stdout",
     "output_type": "stream",
     "text": [
      "    ProductID                      ProductName  SupplierID  CategoryID  \\\n",
      "0           1                             Chai           1           1   \n",
      "1           2                            Chang           1           1   \n",
      "2           3                    Aniseed Syrup           1           2   \n",
      "3           4     Chef Anton's Cajun Seasoning           2           2   \n",
      "4           5           Chef Anton's Gumbo Mix           2           2   \n",
      "..        ...                              ...         ...         ...   \n",
      "72         73                       Röd Kaviar          17           8   \n",
      "73         74                    Longlife Tofu           4           7   \n",
      "74         75             Rhönbräu Klosterbier          12           1   \n",
      "75         76                     Lakkalikööri          23           1   \n",
      "76         77  Original Frankfurter grüne Soße          12           2   \n",
      "\n",
      "        QuantityPerUnit  UnitPrice  UnitsInStock  UnitsOnOrder  ReorderLevel  \\\n",
      "0    10 boxes x 20 bags      18.00            39             0            10   \n",
      "1    24 - 12 oz bottles      19.00            17            40            25   \n",
      "2   12 - 550 ml bottles      10.00            13            70            25   \n",
      "3        48 - 6 oz jars      22.00            53             0             0   \n",
      "4              36 boxes      21.35             0             0             0   \n",
      "..                  ...        ...           ...           ...           ...   \n",
      "72      24 - 150 g jars      15.00           101             0             5   \n",
      "73            5 kg pkg.      10.00             4            20             5   \n",
      "74   24 - 0.5 l bottles       7.75           125             0            25   \n",
      "75               500 ml      18.00            57             0            20   \n",
      "76             12 boxes      13.00            32             0            15   \n",
      "\n",
      "    Discontinued  \n",
      "0          False  \n",
      "1          False  \n",
      "2          False  \n",
      "3          False  \n",
      "4           True  \n",
      "..           ...  \n",
      "72         False  \n",
      "73         False  \n",
      "74         False  \n",
      "75         False  \n",
      "76         False  \n",
      "\n",
      "[77 rows x 10 columns]\n"
     ]
    },
    {
     "name": "stderr",
     "output_type": "stream",
     "text": [
      "C:\\Users\\antho\\AppData\\Local\\Temp\\ipykernel_16600\\1704179019.py:4: UserWarning: pandas only supports SQLAlchemy connectable (engine/connection) or database string URI or sqlite3 DBAPI2 connection. Other DBAPI2 objects are not tested. Please consider using SQLAlchemy.\n",
      "  products_df = pd.read_sql_query(products_query, export_conn)\n"
     ]
    }
   ],
   "source": [
    "export_cursor.execute('USE Northwind')\n",
    "\n",
    "products_query = \"SELECT * From Products\"\n",
    "products_df = pd.read_sql_query(products_query, export_conn)\n",
    "print(products_df)\n",
    "export_conn.close()"
   ]
  },
  {
   "cell_type": "code",
   "execution_count": 28,
   "metadata": {},
   "outputs": [
    {
     "name": "stdout",
     "output_type": "stream",
     "text": [
      "    id          name        description          prod_size   color quantity  \\\n",
      "0  300     Tee Shirt           Tank Top              Small   White       18   \n",
      "1  301     Tee Shirt             V-neck             Medium  Orange       39   \n",
      "2  302     Tee Shirt          Crew Neck  One size fits all   Black       72   \n",
      "3  400  Baseball Cap         Cotton Cap  One size fits all   Black       92   \n",
      "4  401  Baseball Cap           Wool cap  One size fits all   White       12   \n",
      "5  500         Visor        Cloth Visor  One size fits all   White       36   \n",
      "6  501         Visor      Plastic Visor  One size fits all   Black       28   \n",
      "7  600    Sweatshirt  Hooded Sweatshirt              Large   Green       39   \n",
      "8  601    Sweatshirt  Zipped Sweatshirt              Large    Blue       32   \n",
      "9  700        Shorts      Cotton Shorts             Medium   Black       80   \n",
      "\n",
      "  unit_price picture_name     Category  \n",
      "0          9  tshirtw.bmp      Clothes  \n",
      "1         14  tshirto.bmp      Clothes  \n",
      "2         14  tshirtb.bmp      Clothes  \n",
      "3          9     capb.bmp  Accessories  \n",
      "4         10     capw.bmp  Accessories  \n",
      "5          7   visorw.bmp  Accessories  \n",
      "6          7   visorb.bmp  Accessories  \n",
      "7         24  sshirtg.bmp      Clothes  \n",
      "8         24  sshirtb.bmp      Clothes  \n",
      "9         15  shortsb.bmp      Clothes  \n"
     ]
    },
    {
     "name": "stderr",
     "output_type": "stream",
     "text": [
      "C:\\Users\\antho\\AppData\\Local\\Temp\\ipykernel_16600\\2144621771.py:11: UserWarning: pandas only supports SQLAlchemy connectable (engine/connection) or database string URI or sqlite3 DBAPI2 connection. Other DBAPI2 objects are not tested. Please consider using SQLAlchemy.\n",
      "  product_df = pd.read_sql_query(product_query, aec_conn)\n"
     ]
    }
   ],
   "source": [
    "# Connect to the Microsoft Access database file\n",
    "conn_str_access = (\n",
    "    r'DRIVER={Microsoft Access Driver (*.mdb, *.accdb)};'\n",
    "    r'DBQ=C:\\Users\\antho\\OneDrive\\Documenten\\GitHub\\UO_bedrijf\\aenc.accdb;'\n",
    ")\n",
    "\n",
    "aec_conn = pyodbc.connect(conn_str_access)\n",
    "\n",
    "# Execute SQL query to select data from the 'product' table in Access\n",
    "product_query = \"SELECT * FROM product\"\n",
    "product_df = pd.read_sql_query(product_query, aec_conn)\n",
    "\n",
    "print(product_df)\n",
    "\n",
    "# Close the Access connection\n",
    "aec_conn.close()\n"
   ]
  }
 ],
 "metadata": {
  "kernelspec": {
   "display_name": "uo-bedrijf-ZY7TBlVi-py3.12",
   "language": "python",
   "name": "python3"
  },
  "language_info": {
   "codemirror_mode": {
    "name": "ipython",
    "version": 3
   },
   "file_extension": ".py",
   "mimetype": "text/x-python",
   "name": "python",
   "nbconvert_exporter": "python",
   "pygments_lexer": "ipython3",
   "version": "3.12.2"
  }
 },
 "nbformat": 4,
 "nbformat_minor": 2
}
