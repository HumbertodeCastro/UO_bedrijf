{
 "cells": [
  {
   "cell_type": "markdown",
   "metadata": {},
   "source": [
    "## Implementeer elk gemaakt ETL-schema in Python"
   ]
  },
  {
   "cell_type": "markdown",
   "metadata": {},
   "source": [
    "**imports & connection**"
   ]
  },
  {
   "cell_type": "code",
   "execution_count": 8,
   "metadata": {},
   "outputs": [],
   "source": [
    "import pandas as pd\n",
    "import pyodbc"
   ]
  },
  {
   "cell_type": "code",
   "execution_count": 9,
   "metadata": {},
   "outputs": [
    {
     "data": {
      "text/plain": [
       "<pyodbc.Cursor at 0x26f73d3cb30>"
      ]
     },
     "execution_count": 9,
     "metadata": {},
     "output_type": "execute_result"
    }
   ],
   "source": [
    "DB = {'servername': 'LAPTOP-LPE28RPE\\SQLEXPRESS', \n",
    "    'database': 'United_outdoors'}\n",
    "\n",
    "export_conn = pyodbc.connect('DRIVER={SQL Server};SERVER=' + DB['servername'] + \n",
    "                              ';DATABASE=' + DB['database'])\n",
    "\n",
    "export_cursor = export_conn.cursor()\n",
    "export_cursor   "
   ]
  },
  {
   "cell_type": "markdown",
   "metadata": {},
   "source": [
    "**Database connection**"
   ]
  },
  {
   "cell_type": "code",
   "execution_count": 10,
   "metadata": {},
   "outputs": [],
   "source": [
    "Adventure = {\n",
    "    'servername' : 'LAPTOP-LPE28RPE\\SQLEXPRESS',\n",
    "    'database' : 'AdventureWorks2019'\n",
    "}\n",
    "\n",
    "\n",
    "Northwind = {\n",
    "    'servername' : 'LAPTOP-LPE28RPE\\SQLEXPRESS',\n",
    "    'database' : 'Northwind'\n",
    "}\n",
    "\n",
    "access_db_path = r'C:\\Users\\Humberto de Castro\\OneDrive\\Desktop\\SEM4\\AenC\\aenc.accdb'\n",
    "\n",
    "#Connect to AdventureWorks\n",
    "Adventure_conn = pyodbc.connect(f\"DRIVER={{SQL Server}};SERVER={Adventure['servername']};DATABASE={Adventure['database']};Trusted_Connection=yes;\")\n",
    "Adventure_cursor = Adventure_conn.cursor()\n",
    "\n",
    "#Connect to Northwind\n",
    "Northwind_conn = pyodbc.connect(f\"DRIVER={{SQL Server}};SERVER={Northwind['servername']};DATABASE={Northwind['database']};Trusted_Connection=yes;\")\n",
    "Northwind_cursor = Northwind_conn.cursor()\n",
    "\n",
    "#Connect to AenC\n",
    "AenC_conn = pyodbc.connect(f\"DRIVER={{Microsoft Access Driver (*.mdb, *.accdb)}};DBQ={access_db_path};\")\n",
    "\n"
   ]
  },
  {
   "cell_type": "code",
   "execution_count": 11,
   "metadata": {},
   "outputs": [
    {
     "name": "stderr",
     "output_type": "stream",
     "text": [
      "C:\\Users\\Humberto de Castro\\AppData\\Local\\Temp\\ipykernel_54000\\3059400535.py:21: UserWarning: pandas only supports SQLAlchemy connectable (engine/connection) or database string URI or sqlite3 DBAPI2 connection. Other DBAPI2 objects are not tested. Please consider using SQLAlchemy.\n",
      "  dataframes[table_name] = pd.read_sql_query(query, Adventure_conn)\n",
      "C:\\Users\\Humberto de Castro\\AppData\\Local\\Temp\\ipykernel_54000\\3059400535.py:24: UserWarning: pandas only supports SQLAlchemy connectable (engine/connection) or database string URI or sqlite3 DBAPI2 connection. Other DBAPI2 objects are not tested. Please consider using SQLAlchemy.\n",
      "  dataframes[table_name] = pd.read_sql_query(query, Northwind_conn)\n",
      "C:\\Users\\Humberto de Castro\\AppData\\Local\\Temp\\ipykernel_54000\\3059400535.py:27: UserWarning: pandas only supports SQLAlchemy connectable (engine/connection) or database string URI or sqlite3 DBAPI2 connection. Other DBAPI2 objects are not tested. Please consider using SQLAlchemy.\n",
      "  dataframes[table_name] = pd.read_sql_query(query, AenC_conn)\n"
     ]
    }
   ],
   "source": [
    "AdventureWorks_queries = {\n",
    "    'SalesPerson' : 'SELECT * FROM Sales.SalesPerson',\n",
    "    'Quota' : 'SELECT * FROM Sales.SalesPersonQuotaHistory'\n",
    "}\n",
    "\n",
    "Northwind_queries = {\n",
    "    'Shippers' : 'SELECT * FROM Shippers'\n",
    "}\n",
    "\n",
    "AenC_queries = {\n",
    "    'sales_order' : 'SELECT * FROM sales_order',\n",
    "    'sales_order_item' : 'SELECT * FROM sales_order_item',\n",
    "    'Product' : 'SELECT * FROM Product' \n",
    "}\n",
    "\n",
    "dataframes = {}\n",
    "\n",
    "# Lees elke tabel in een DataFrame\n",
    "\n",
    "for table_name, query in AdventureWorks_queries.items():\n",
    "    dataframes[table_name] = pd.read_sql_query(query, Adventure_conn)\n",
    "\n",
    "for table_name, query in Northwind_queries.items():\n",
    "    dataframes[table_name] = pd.read_sql_query(query, Northwind_conn)\n",
    "\n",
    "for table_name, query in AenC_queries.items():\n",
    "    dataframes[table_name] = pd.read_sql_query(query, AenC_conn)\n",
    "\n",
    "#als je ik elk tabel als een dataframe/ variabele wil behandelen of aanroepen moet ik dit uitvoeren.\n",
    "for table_name, df in dataframes.items():\n",
    "    globals()[table_name] = df\n"
   ]
  },
  {
   "cell_type": "markdown",
   "metadata": {},
   "source": [
    "## Salesperson"
   ]
  },
  {
   "cell_type": "markdown",
   "metadata": {},
   "source": [
    "Transform"
   ]
  },
  {
   "cell_type": "code",
   "execution_count": 12,
   "metadata": {},
   "outputs": [],
   "source": [
    "Quota.rename(columns={\n",
    "    'BusinessEntityID': 'EmployeeID',\n",
    "}, inplace=True)"
   ]
  },
  {
   "cell_type": "code",
   "execution_count": 13,
   "metadata": {},
   "outputs": [],
   "source": [
    "# Prefixes toevoegen\n",
    "Quota['EmployeeID'] = Quota['EmployeeID'].apply(lambda x: f'AW_{x}')"
   ]
  },
  {
   "cell_type": "code",
   "execution_count": 14,
   "metadata": {},
   "outputs": [
    {
     "name": "stdout",
     "output_type": "stream",
     "text": [
      "    EmployeeID  QuotaDate  SalesQuota Bonus\n",
      "0       AW_274 2011-05-31     28000.0  None\n",
      "1       AW_274 2011-08-31      7000.0  None\n",
      "2       AW_274 2011-12-01     91000.0  None\n",
      "3       AW_274 2012-02-29    140000.0  None\n",
      "4       AW_274 2012-05-30     70000.0  None\n",
      "..         ...        ...         ...   ...\n",
      "158     AW_290 2013-02-28    404000.0  None\n",
      "159     AW_290 2013-05-30   1262000.0  None\n",
      "160     AW_290 2013-08-30   1057000.0  None\n",
      "161     AW_290 2013-11-30    707000.0  None\n",
      "162     AW_290 2014-03-01    908000.0  None\n",
      "\n",
      "[163 rows x 4 columns]\n"
     ]
    }
   ],
   "source": [
    "# Zorg ervoor dat alle vereiste kolommen bestaan en selecteer ze\n",
    "required_columns = ['EmployeeID', 'QuotaDate', 'SalesQuota', 'Bonus']\n",
    "\n",
    "for col in required_columns:\n",
    "    if col not in Quota.columns:\n",
    "        Quota[col] = None\n",
    "\n",
    "\n",
    "# Selecteer de kolommen in de juiste volgorde\n",
    "Quota = Quota[required_columns]\n",
    "\n",
    "print(Quota)\n"
   ]
  },
  {
   "cell_type": "markdown",
   "metadata": {},
   "source": [
    "### Load in ssms"
   ]
  },
  {
   "cell_type": "code",
   "execution_count": 16,
   "metadata": {},
   "outputs": [],
   "source": [
    "# Insert data into the Quota table\n",
    "for index, row in Quota.iterrows():\n",
    "    try:\n",
    "        query = \"\"\"\n",
    "        INSERT INTO [Quota] (EmployeeID, QuotaDate, SalesQuota)\n",
    "        VALUES (?, ?, ?)\n",
    "        \"\"\"\n",
    "        # Ensure values are in the correct format\n",
    "        params = (\n",
    "            row['EmployeeID'],\n",
    "            row['QuotaDate'],\n",
    "            float(row['SalesQuota']) if pd.notnull(row['SalesQuota']) else None\n",
    "        )\n",
    "        export_cursor.execute(query, params)\n",
    "    except pyodbc.Error as e:\n",
    "        print(f\"An error occurred: {e}\")\n",
    "        print(query)\n",
    "        print(\"Parameters:\", params)\n",
    "\n",
    "export_conn.commit()\n"
   ]
  }
 ],
 "metadata": {
  "kernelspec": {
   "display_name": "uo-bedrijf-V1uT7Q__-py3.11",
   "language": "python",
   "name": "python3"
  },
  "language_info": {
   "codemirror_mode": {
    "name": "ipython",
    "version": 3
   },
   "file_extension": ".py",
   "mimetype": "text/x-python",
   "name": "python",
   "nbconvert_exporter": "python",
   "pygments_lexer": "ipython3",
   "version": "3.11.8"
  }
 },
 "nbformat": 4,
 "nbformat_minor": 2
}
