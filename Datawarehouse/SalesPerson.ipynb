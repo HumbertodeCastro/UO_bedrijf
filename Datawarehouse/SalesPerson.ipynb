{
 "cells": [
  {
   "cell_type": "markdown",
   "metadata": {},
   "source": [
    "## Implementeer elk gemaakt ETL-schema in Python"
   ]
  },
  {
   "cell_type": "markdown",
   "metadata": {},
   "source": [
    "**imports & connection**"
   ]
  },
  {
   "cell_type": "code",
   "execution_count": 1,
   "metadata": {},
   "outputs": [],
   "source": [
    "import pandas as pd\n",
    "import pyodbc"
   ]
  },
  {
   "cell_type": "code",
   "execution_count": 2,
   "metadata": {},
   "outputs": [
    {
     "data": {
      "text/plain": [
       "<pyodbc.Cursor at 0x1c06e544030>"
      ]
     },
     "execution_count": 2,
     "metadata": {},
     "output_type": "execute_result"
    }
   ],
   "source": [
    "DB = {'servername': 'LAPTOP-LPE28RPE\\SQLEXPRESS', \n",
    "    'database': 'United_outdoors'}\n",
    "\n",
    "export_conn = pyodbc.connect('DRIVER={SQL Server};SERVER=' + DB['servername'] + \n",
    "                              ';DATABASE=' + DB['database'])\n",
    "\n",
    "export_cursor = export_conn.cursor()\n",
    "export_cursor   "
   ]
  },
  {
   "cell_type": "markdown",
   "metadata": {},
   "source": [
    "**Database connection**"
   ]
  },
  {
   "cell_type": "code",
   "execution_count": 3,
   "metadata": {},
   "outputs": [],
   "source": [
    "Adventure = {\n",
    "    'servername' : 'LAPTOP-LPE28RPE\\SQLEXPRESS',\n",
    "    'database' : 'AdventureWorks2019'\n",
    "}\n",
    "\n",
    "\n",
    "Northwind = {\n",
    "    'servername' : 'LAPTOP-LPE28RPE\\SQLEXPRESS',\n",
    "    'database' : 'Northwind'\n",
    "}\n",
    "\n",
    "access_db_path = r'C:\\Users\\Humberto de Castro\\OneDrive\\Desktop\\SEM4\\AenC\\aenc.accdb'\n",
    "\n",
    "#Connect to AdventureWorks\n",
    "Adventure_conn = pyodbc.connect(f\"DRIVER={{SQL Server}};SERVER={Adventure['servername']};DATABASE={Adventure['database']};Trusted_Connection=yes;\")\n",
    "Adventure_cursor = Adventure_conn.cursor()\n",
    "\n",
    "#Connect to Northwind\n",
    "Northwind_conn = pyodbc.connect(f\"DRIVER={{SQL Server}};SERVER={Northwind['servername']};DATABASE={Northwind['database']};Trusted_Connection=yes;\")\n",
    "Northwind_cursor = Northwind_conn.cursor()\n",
    "\n",
    "#Connect to AenC\n",
    "AenC_conn = pyodbc.connect(f\"DRIVER={{Microsoft Access Driver (*.mdb, *.accdb)}};DBQ={access_db_path};\")\n",
    "\n"
   ]
  },
  {
   "cell_type": "code",
   "execution_count": 4,
   "metadata": {},
   "outputs": [
    {
     "name": "stderr",
     "output_type": "stream",
     "text": [
      "C:\\Users\\Humberto de Castro\\AppData\\Local\\Temp\\ipykernel_34792\\3059400535.py:21: UserWarning: pandas only supports SQLAlchemy connectable (engine/connection) or database string URI or sqlite3 DBAPI2 connection. Other DBAPI2 objects are not tested. Please consider using SQLAlchemy.\n",
      "  dataframes[table_name] = pd.read_sql_query(query, Adventure_conn)\n",
      "C:\\Users\\Humberto de Castro\\AppData\\Local\\Temp\\ipykernel_34792\\3059400535.py:24: UserWarning: pandas only supports SQLAlchemy connectable (engine/connection) or database string URI or sqlite3 DBAPI2 connection. Other DBAPI2 objects are not tested. Please consider using SQLAlchemy.\n",
      "  dataframes[table_name] = pd.read_sql_query(query, Northwind_conn)\n",
      "C:\\Users\\Humberto de Castro\\AppData\\Local\\Temp\\ipykernel_34792\\3059400535.py:27: UserWarning: pandas only supports SQLAlchemy connectable (engine/connection) or database string URI or sqlite3 DBAPI2 connection. Other DBAPI2 objects are not tested. Please consider using SQLAlchemy.\n",
      "  dataframes[table_name] = pd.read_sql_query(query, AenC_conn)\n"
     ]
    }
   ],
   "source": [
    "AdventureWorks_queries = {\n",
    "    'SalesPerson' : 'SELECT * FROM Sales.SalesPerson',\n",
    "    'Quota' : 'SELECT * FROM Sales.SalesPersonQuotaHistory'\n",
    "}\n",
    "\n",
    "Northwind_queries = {\n",
    "    'Shippers' : 'SELECT * FROM Shippers'\n",
    "}\n",
    "\n",
    "AenC_queries = {\n",
    "    'sales_order' : 'SELECT * FROM sales_order',\n",
    "    'sales_order_item' : 'SELECT * FROM sales_order_item',\n",
    "    'Product' : 'SELECT * FROM Product' \n",
    "}\n",
    "\n",
    "dataframes = {}\n",
    "\n",
    "# Lees elke tabel in een DataFrame\n",
    "\n",
    "for table_name, query in AdventureWorks_queries.items():\n",
    "    dataframes[table_name] = pd.read_sql_query(query, Adventure_conn)\n",
    "\n",
    "for table_name, query in Northwind_queries.items():\n",
    "    dataframes[table_name] = pd.read_sql_query(query, Northwind_conn)\n",
    "\n",
    "for table_name, query in AenC_queries.items():\n",
    "    dataframes[table_name] = pd.read_sql_query(query, AenC_conn)\n",
    "\n",
    "#als je ik elk tabel als een dataframe/ variabele wil behandelen of aanroepen moet ik dit uitvoeren.\n",
    "for table_name, df in dataframes.items():\n",
    "    globals()[table_name] = df\n"
   ]
  },
  {
   "cell_type": "markdown",
   "metadata": {},
   "source": [
    "## Salesperson"
   ]
  },
  {
   "cell_type": "markdown",
   "metadata": {},
   "source": [
    "Transform"
   ]
  },
  {
   "cell_type": "code",
   "execution_count": 5,
   "metadata": {},
   "outputs": [],
   "source": [
    "SalesPerson.rename(columns={\n",
    "    'BusinessEntityID': 'EmployeeID',\n",
    "}, inplace=True)"
   ]
  },
  {
   "cell_type": "code",
   "execution_count": 6,
   "metadata": {},
   "outputs": [],
   "source": [
    "# Prefixes toevoegen\n",
    "SalesPerson['EmployeeID'] = SalesPerson['EmployeeID'].apply(lambda x: f'AW_{x}')"
   ]
  },
  {
   "cell_type": "code",
   "execution_count": 7,
   "metadata": {},
   "outputs": [
    {
     "name": "stdout",
     "output_type": "stream",
     "text": [
      "   EmployeeID  TerritoryID  SalesQuota   Bonus      SalesYTD  SalesLastYear\n",
      "0      AW_274          NaN         NaN     0.0  5.596976e+05   0.000000e+00\n",
      "1      AW_275          2.0    300000.0  4100.0  3.763178e+06   1.750406e+06\n",
      "2      AW_276          4.0    250000.0  2000.0  4.251369e+06   1.439156e+06\n",
      "3      AW_277          3.0    250000.0  2500.0  3.189418e+06   1.997186e+06\n",
      "4      AW_278          6.0    250000.0   500.0  1.453719e+06   1.620277e+06\n",
      "5      AW_279          5.0    300000.0  6700.0  2.315186e+06   1.849641e+06\n",
      "6      AW_280          1.0    250000.0  5000.0  1.352577e+06   1.927059e+06\n",
      "7      AW_281          4.0    250000.0  3550.0  2.458536e+06   2.073506e+06\n",
      "8      AW_282          6.0    250000.0  5000.0  2.604541e+06   2.038235e+06\n",
      "9      AW_283          1.0    250000.0  3500.0  1.573013e+06   1.371635e+06\n",
      "10     AW_284          1.0    300000.0  3900.0  1.576562e+06   0.000000e+00\n",
      "11     AW_285          NaN         NaN     0.0  1.725245e+05   0.000000e+00\n",
      "12     AW_286          9.0    250000.0  5650.0  1.421811e+06   2.278549e+06\n",
      "13     AW_287          NaN         NaN     0.0  5.199059e+05   0.000000e+00\n",
      "14     AW_288          8.0    250000.0    75.0  1.827067e+06   1.307950e+06\n",
      "15     AW_289         10.0    250000.0  5150.0  4.116871e+06   1.635823e+06\n",
      "16     AW_290          7.0    250000.0   985.0  3.121616e+06   2.396540e+06\n"
     ]
    }
   ],
   "source": [
    "# Zorg ervoor dat alle vereiste kolommen bestaan en selecteer ze\n",
    "required_columns = ['EmployeeID', 'TerritoryID', 'SalesQuota', 'Bonus', 'SalesYTD', 'SalesLastYear']\n",
    "\n",
    "for col in required_columns:\n",
    "    if col not in SalesPerson.columns:\n",
    "        SalesPerson[col] = None\n",
    "\n",
    "\n",
    "# Selecteer de kolommen in de juiste volgorde\n",
    "SalesPerson = SalesPerson[required_columns]\n",
    "\n",
    "print(SalesPerson)\n"
   ]
  },
  {
   "cell_type": "markdown",
   "metadata": {},
   "source": [
    "### Load in ssms"
   ]
  },
  {
   "cell_type": "code",
   "execution_count": 8,
   "metadata": {},
   "outputs": [],
   "source": [
    "# Insert data into the SalesPerson table\n",
    "for index, row in SalesPerson.iterrows():\n",
    "    try:\n",
    "        query = \"\"\"\n",
    "        INSERT INTO [SalesPerson] (EmployeeID, TerritoryID, SalesQuota, Bonus, SalesYTD, SalesLastYear)\n",
    "        VALUES (?, ?, ?, ?, ?, ?)\n",
    "        \"\"\"\n",
    "        # Ensure values are in the correct format\n",
    "        params = (\n",
    "            row['EmployeeID'],\n",
    "            row['TerritoryID'] if pd.notnull(row['TerritoryID']) else None,\n",
    "            float(row['SalesQuota']) if pd.notnull(row['SalesQuota']) else None,\n",
    "            row['Bonus'] if pd.notnull(row['Bonus']) else None,\n",
    "            float(row['SalesYTD']) if pd.notnull(row['SalesYTD']) else None,\n",
    "            float(row['SalesLastYear']) if pd.notnull(row['SalesLastYear']) else None\n",
    "        )\n",
    "        export_cursor.execute(query, params)\n",
    "    except pyodbc.Error as e:\n",
    "        print(f\"An error occurred: {e}\")\n",
    "        print(query)\n",
    "        print(\"Parameters:\", params)\n",
    "\n",
    "export_conn.commit()\n"
   ]
  },
  {
   "cell_type": "markdown",
   "metadata": {},
   "source": [
    "### **Data_mutatie simuleren**"
   ]
  },
  {
   "cell_type": "code",
   "execution_count": null,
   "metadata": {},
   "outputs": [],
   "source": [
    "# Function to merge data into SalesPerson table\n",
    "def merge_salesperson(employee_id, territory_id, sales_quota, bonus, sales_ytd, sales_last_year):\n",
    "    merge_query = \"{CALL MergeSalesPerson (?, ?, ?, ?, ?, ?)}\"\n",
    "    export_cursor.execute(merge_query, (employee_id, territory_id, sales_quota, bonus, sales_ytd, sales_last_year))\n",
    "    export_conn.commit()\n",
    "    print(\"Merged into SalesPerson table\")"
   ]
  },
  {
   "cell_type": "code",
   "execution_count": null,
   "metadata": {},
   "outputs": [],
   "source": [
    "try:\n",
    "   # Merge into SalesPerson table\n",
    "    merge_salesperson('E123', 1, 100000.0, 5000.0, 75000.0, 70000.0)\n",
    "    merge_salesperson('E123', 1, 120000.0, 6000.0, 80000.0, 75000.0)\n",
    "    merge_salesperson('AW_290', 1, 120000.0, 6000.0, 80000.0, 75000.0)\n",
    "finally:\n",
    "    # Close the connection\n",
    "    print(\"Connection closed\")"
   ]
  }
 ],
 "metadata": {
  "kernelspec": {
   "display_name": "uo-bedrijf-V1uT7Q__-py3.11",
   "language": "python",
   "name": "python3"
  },
  "language_info": {
   "codemirror_mode": {
    "name": "ipython",
    "version": 3
   },
   "file_extension": ".py",
   "mimetype": "text/x-python",
   "name": "python",
   "nbconvert_exporter": "python",
   "pygments_lexer": "ipython3",
   "version": "3.11.8"
  }
 },
 "nbformat": 4,
 "nbformat_minor": 2
}
