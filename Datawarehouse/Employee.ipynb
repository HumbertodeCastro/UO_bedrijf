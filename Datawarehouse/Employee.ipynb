{
 "cells": [
  {
   "cell_type": "code",
   "execution_count": 1,
   "metadata": {},
   "outputs": [],
   "source": [
    "import pandas as pd\n",
    "import pyodbc\n"
   ]
  },
  {
   "cell_type": "code",
   "execution_count": 2,
   "metadata": {},
   "outputs": [
    {
     "name": "stderr",
     "output_type": "stream",
     "text": [
      "<>:1: SyntaxWarning: invalid escape sequence '\\S'\n",
      "<>:1: SyntaxWarning: invalid escape sequence '\\S'\n",
      "C:\\Users\\antho\\AppData\\Local\\Temp\\ipykernel_4808\\944234878.py:1: SyntaxWarning: invalid escape sequence '\\S'\n",
      "  DB = {'servername': 'LAPTOP-105ECA33\\SQLEXPRESS',\n"
     ]
    },
    {
     "data": {
      "text/plain": [
       "<pyodbc.Cursor at 0x1e6d5866c30>"
      ]
     },
     "execution_count": 2,
     "metadata": {},
     "output_type": "execute_result"
    }
   ],
   "source": [
    "DB = {'servername': 'LAPTOP-105ECA33\\SQLEXPRESS', \n",
    "    'database': 'UnitedOutdoors'}\n",
    "\n",
    "export_conn = pyodbc.connect('DRIVER={SQL Server};SERVER=' + DB['servername'] + \n",
    "                              ';DATABASE=' + DB['database'])\n",
    "\n",
    "export_cursor = export_conn.cursor()\n",
    "export_cursor  "
   ]
  },
  {
   "cell_type": "code",
   "execution_count": 3,
   "metadata": {},
   "outputs": [
    {
     "name": "stderr",
     "output_type": "stream",
     "text": [
      "<>:2: SyntaxWarning: invalid escape sequence '\\S'\n",
      "<>:8: SyntaxWarning: invalid escape sequence '\\S'\n",
      "<>:2: SyntaxWarning: invalid escape sequence '\\S'\n",
      "<>:8: SyntaxWarning: invalid escape sequence '\\S'\n",
      "C:\\Users\\antho\\AppData\\Local\\Temp\\ipykernel_4808\\1537168005.py:2: SyntaxWarning: invalid escape sequence '\\S'\n",
      "  'servername' : 'LAPTOP-105ECA33\\SQLEXPRESS',\n",
      "C:\\Users\\antho\\AppData\\Local\\Temp\\ipykernel_4808\\1537168005.py:8: SyntaxWarning: invalid escape sequence '\\S'\n",
      "  'servername' : 'LAPTOP-105ECA33\\SQLEXPRESS',\n"
     ]
    }
   ],
   "source": [
    "\n",
    "Adventure = {\n",
    "    'servername' : 'LAPTOP-105ECA33\\SQLEXPRESS',\n",
    "    'database' : 'AdventureWorks2019'\n",
    "}\n",
    "\n",
    "\n",
    "Northwind = {\n",
    "    'servername' : 'LAPTOP-105ECA33\\SQLEXPRESS',\n",
    "    'database' : 'Northwind'\n",
    "}\n",
    "\n",
    "access_db_path = r'C:\\HBO ICT\\DEDS jaar 2\\aenc.accdb'\n",
    "\n",
    "#Connect to AdventureWorks\n",
    "Adventure_conn = pyodbc.connect(f\"DRIVER={{SQL Server}};SERVER={Adventure['servername']};DATABASE={Adventure['database']};Trusted_Connection=yes;\")\n",
    "Adventure_cursor = Adventure_conn.cursor()\n",
    "\n",
    "#Connect to Northwind\n",
    "Northwind_conn = pyodbc.connect(f\"DRIVER={{SQL Server}};SERVER={Northwind['servername']};DATABASE={Northwind['database']};Trusted_Connection=yes;\")\n",
    "Northwind_cursor = Northwind_conn.cursor()\n",
    "\n",
    "#Connect to AenC\n",
    "AenC_conn = pyodbc.connect(f\"DRIVER={{Microsoft Access Driver (*.mdb, *.accdb)}};DBQ={access_db_path};\")\n",
    "\n"
   ]
  },
  {
   "cell_type": "code",
   "execution_count": 4,
   "metadata": {},
   "outputs": [
    {
     "name": "stderr",
     "output_type": "stream",
     "text": [
      "C:\\Users\\antho\\AppData\\Local\\Temp\\ipykernel_4808\\3154358536.py:21: UserWarning: pandas only supports SQLAlchemy connectable (engine/connection) or database string URI or sqlite3 DBAPI2 connection. Other DBAPI2 objects are not tested. Please consider using SQLAlchemy.\n",
      "  dataframes[table_name] = pd.read_sql_query(query, Adventure_conn)\n",
      "C:\\Users\\antho\\AppData\\Local\\Temp\\ipykernel_4808\\3154358536.py:24: UserWarning: pandas only supports SQLAlchemy connectable (engine/connection) or database string URI or sqlite3 DBAPI2 connection. Other DBAPI2 objects are not tested. Please consider using SQLAlchemy.\n",
      "  dataframes[table_name] = pd.read_sql_query(query, Northwind_conn)\n",
      "C:\\Users\\antho\\AppData\\Local\\Temp\\ipykernel_4808\\3154358536.py:27: UserWarning: pandas only supports SQLAlchemy connectable (engine/connection) or database string URI or sqlite3 DBAPI2 connection. Other DBAPI2 objects are not tested. Please consider using SQLAlchemy.\n",
      "  dataframes[table_name] = pd.read_sql_query(query, AenC_conn)\n"
     ]
    }
   ],
   "source": [
    "AdventureWorks_queries = {\n",
    "    'AW_Employee' : 'SELECT * FROM HumanResources.Employee',\n",
    "    \n",
    "}\n",
    "\n",
    "Northwind_queries = {\n",
    "    'NW_Employee' : 'SELECT * FROM Employees',\n",
    "    \n",
    "}\n",
    "\n",
    "AenC_queries = {\n",
    "    'AC_Employee' : 'SELECT * FROM Employee',\n",
    "    \n",
    "}\n",
    "\n",
    "dataframes = {}\n",
    "\n",
    "# Lees elke tabel in een DataFrame\n",
    "\n",
    "for table_name, query in AdventureWorks_queries.items():\n",
    "    dataframes[table_name] = pd.read_sql_query(query, Adventure_conn)\n",
    "\n",
    "for table_name, query in Northwind_queries.items():\n",
    "    dataframes[table_name] = pd.read_sql_query(query, Northwind_conn)\n",
    "\n",
    "for table_name, query in AenC_queries.items():\n",
    "    dataframes[table_name] = pd.read_sql_query(query, AenC_conn)\n",
    "\n",
    "#als je ik elk tabel als een dataframe/ variabele wil behandelen of aanroepen moet ik dit uitvoeren.\n",
    "for table_name, df in dataframes.items():\n",
    "    globals()[table_name] = df\n",
    "\n",
    "    print(Employee)\n",
    "    \n"
   ]
  },
  {
   "cell_type": "code",
   "execution_count": null,
   "metadata": {},
   "outputs": [],
   "source": []
  },
  {
   "cell_type": "code",
   "execution_count": null,
   "metadata": {},
   "outputs": [
    {
     "name": "stdout",
     "output_type": "stream",
     "text": [
      "No conflicts found in Order IDs.\n",
      "Empty DataFrame\n",
      "Columns: [Conflicting Order IDs]\n",
      "Index: []\n"
     ]
    }
   ],
   "source": [
    "AW_Employee.rename(columns={\n",
    "    'BusinessEntityID': 'EmployeeID',\n",
    "    'JobTitle' : 'Job_title',\n",
    "    'BirthDate' : 'Birth_date',\n",
    "    'HireDate': 'Hire_date'\n",
    "\n",
    "}, inplace=True)\n",
    "\n",
    "# change shipvia to string \n",
    "#Northwind_Order['ShipVia'] = Northwind_Order['ShipVia'].astype(str)\n",
    "NW_Employee.rename(columns={\n",
    "    'Title': 'Job_title',\n",
    "    'BirthDate' : 'Birth_date',\n",
    "    'HireDate': 'Hire_date'\n",
    "    \n",
    "}, inplace=True)\n",
    "\n",
    "AC_Employee.rename(columns={\n",
    "    'emp_id': 'EmployeeID',\n",
    "    'emp_fname': 'FirstName',\n",
    "    'emp_lname': 'LastName',\n",
    "    'state': 'Region',\n",
    "    'city': 'City',\n",
    "    'zip_code': 'PostalCode',\n",
    "    'street': 'Address',\n",
    "    'dept_id' : 'DepartmentID',\n",
    "    'start_date': 'Hire_date'\n",
    "    \n",
    "}, inplace=True)\n",
    "\n"
   ]
  },
  {
   "cell_type": "code",
   "execution_count": null,
   "metadata": {},
   "outputs": [],
   "source": [
    "# Adding a prefix to EmployeeIDs for each source DataFrame\n",
    "AW_Employee['EmployeeID'] = AW_Employee['EmployeeID'].apply(lambda x: f'AW_{x}')\n",
    "NW_Employee['EmployeeID'] = NW_Employee['EmployeeID'].apply(lambda x: f'NW_{x}')\n",
    "AC_Employee['EmployeeID'] = AC_Employee['EmployeeID'].apply(lambda x: f'AC_{x}')\n",
    "\n",
    "# maar dan ook prefix zetten in bijbehorende dimensies en tabellen.\n"
   ]
  },
  {
   "cell_type": "code",
   "execution_count": null,
   "metadata": {},
   "outputs": [
    {
     "name": "stdout",
     "output_type": "stream",
     "text": [
      "    EmployeeID  FirstName    LastName Region        City PostalCode  \\\n",
      "0         AW_1       None        None   None        None       None   \n",
      "1         AW_2       None        None   None        None       None   \n",
      "2         AW_3       None        None   None        None       None   \n",
      "3         AW_4       None        None   None        None       None   \n",
      "4         AW_5       None        None   None        None       None   \n",
      "..         ...        ...         ...    ...         ...        ...   \n",
      "369    AC_1643  Elizabeth     Lambert     MA  Burlington      01803   \n",
      "370    AC_1658    Michael       Lynch     MA     Waltham      02154   \n",
      "371    AC_1684      Janet  Hildebrand     MA     Waltham      02154   \n",
      "372    AC_1740     Robert     Nielsen     MA     Bedford      01730   \n",
      "373    AC_1751       Alex       Ahmed     MA     Needham      02192   \n",
      "\n",
      "                Address DepartmentID                      Job_title  \\\n",
      "0                  None         None        Chief Executive Officer   \n",
      "1                  None         None  Vice President of Engineering   \n",
      "2                  None         None            Engineering Manager   \n",
      "3                  None         None           Senior Tool Designer   \n",
      "4                  None         None                Design Engineer   \n",
      "..                  ...          ...                            ...   \n",
      "369     29 Union Street          400                           None   \n",
      "370   76 Brookside Road          500                           None   \n",
      "371   47 Hilltop Street          400                           None   \n",
      "372   55 Sargent Avenue          400                           None   \n",
      "373  114 Cushing Street          400                           None   \n",
      "\n",
      "     Birth_date                Hire_date  \n",
      "0    1969-01-29               2009-01-14  \n",
      "1    1971-08-01               2008-01-31  \n",
      "2    1974-11-12               2007-11-11  \n",
      "3    1974-12-23               2007-12-05  \n",
      "4    1952-09-27               2008-01-06  \n",
      "..          ...                      ...  \n",
      "369        None  15-Jun-1997 12:00:00 AM  \n",
      "370        None  28-Aug-1997 12:00:00 AM  \n",
      "371        None  13-Sep-1997 12:00:00 AM  \n",
      "372        None  23-Dec-1997 12:00:00 AM  \n",
      "373        None  10-Jan-1998 12:00:00 AM  \n",
      "\n",
      "[374 rows x 11 columns]\n"
     ]
    }
   ],
   "source": [
    "\n",
    "\n",
    "# Zorg ervoor dat alle vereiste kolommen bestaan en selecteer ze\n",
    "required_columns = ['EmployeeID', 'FirstName', 'LastName', 'Region', 'City', 'PostalCode', 'Address', 'DepartmentID', 'Job_title', 'Birth_date', 'Hire_date']\n",
    "\n",
    "for col in required_columns:\n",
    "    if col not in AW_Employee.columns:\n",
    "        AW_Employee[col] = None\n",
    "    if col not in NW_Employee.columns:\n",
    "        NW_Employee[col] = None\n",
    "    if col not in AC_Employee.columns:\n",
    "        AC_Employee[col] = None\n",
    "\n",
    "# Selecteer de kolommen in de juiste volgorde\n",
    "AW_Employee = AW_Employee[required_columns]\n",
    "NW_Employee = NW_Employee[required_columns]\n",
    "AC_Employee = AC_Employee[required_columns]\n",
    "\n",
    "# Combineer de dataframes\n",
    "Employee1 = pd.concat([AW_Employee, NW_Employee, AC_Employee], ignore_index=True)\n",
    "\n",
    "# Toon het resultaat\n",
    "#print(combined_df)\n",
    "print(Employee1)"
   ]
  },
  {
   "cell_type": "code",
   "execution_count": null,
   "metadata": {},
   "outputs": [
    {
     "name": "stdout",
     "output_type": "stream",
     "text": [
      "    EmployeeID  FirstName    LastName Region        City PostalCode  \\\n",
      "0         AW_1       None        None   None        None       None   \n",
      "1         AW_2       None        None   None        None       None   \n",
      "2         AW_3       None        None   None        None       None   \n",
      "3         AW_4       None        None   None        None       None   \n",
      "4         AW_5       None        None   None        None       None   \n",
      "..         ...        ...         ...    ...         ...        ...   \n",
      "369    AC_1643  Elizabeth     Lambert     MA  Burlington      01803   \n",
      "370    AC_1658    Michael       Lynch     MA     Waltham      02154   \n",
      "371    AC_1684      Janet  Hildebrand     MA     Waltham      02154   \n",
      "372    AC_1740     Robert     Nielsen     MA     Bedford      01730   \n",
      "373    AC_1751       Alex       Ahmed     MA     Needham      02192   \n",
      "\n",
      "                Address DepartmentID                      Job_title  \\\n",
      "0                  None         None        Chief Executive Officer   \n",
      "1                  None         None  Vice President of Engineering   \n",
      "2                  None         None            Engineering Manager   \n",
      "3                  None         None           Senior Tool Designer   \n",
      "4                  None         None                Design Engineer   \n",
      "..                  ...          ...                            ...   \n",
      "369     29 Union Street          400                           None   \n",
      "370   76 Brookside Road          500                           None   \n",
      "371   47 Hilltop Street          400                           None   \n",
      "372   55 Sargent Avenue          400                           None   \n",
      "373  114 Cushing Street          400                           None   \n",
      "\n",
      "     Birth_date                Hire_date  \n",
      "0    1969-01-29               2009-01-14  \n",
      "1    1971-08-01               2008-01-31  \n",
      "2    1974-11-12               2007-11-11  \n",
      "3    1974-12-23               2007-12-05  \n",
      "4    1952-09-27               2008-01-06  \n",
      "..          ...                      ...  \n",
      "369        None  15-Jun-1997 12:00:00 AM  \n",
      "370        None  28-Aug-1997 12:00:00 AM  \n",
      "371        None  13-Sep-1997 12:00:00 AM  \n",
      "372        None  23-Dec-1997 12:00:00 AM  \n",
      "373        None  10-Jan-1998 12:00:00 AM  \n",
      "\n",
      "[374 rows x 11 columns]\n"
     ]
    }
   ],
   "source": [
    "\n",
    "\n",
    "# Zorg ervoor dat alle vereiste kolommen bestaan en selecteer ze\n",
    "required_columns = ['EmployeeID', 'FirstName', 'LastName', 'Region', 'City', 'PostalCode', 'Address', 'DepartmentID', 'Job_title', 'Birth_date', 'Hire_date']\n",
    "\n",
    "for col in required_columns:\n",
    "    if col not in AW_Employee.columns:\n",
    "        AW_Employee[col] = None\n",
    "    if col not in NW_Employee.columns:\n",
    "        NW_Employee[col] = None\n",
    "    if col not in AC_Employee.columns:\n",
    "        AC_Employee[col] = None\n",
    "\n",
    "# Selecteer de kolommen in de juiste volgorde\n",
    "AW_Employee = AW_Employee[required_columns]\n",
    "NW_Employee = NW_Employee[required_columns]\n",
    "AC_Employee = AC_Employee[required_columns]\n",
    "\n",
    "# Combineer de dataframes\n",
    "Employee1 = pd.concat([AW_Employee, NW_Employee, AC_Employee], ignore_index=True)\n",
    "\n",
    "# Toon het resultaat\n",
    "#print(combined_df)\n",
    "print(Employee1)"
   ]
  },
  {
   "cell_type": "code",
   "execution_count": null,
   "metadata": {},
   "outputs": [
    {
     "name": "stdout",
     "output_type": "stream",
     "text": [
      "Index(['emp_id', 'manager_id', 'emp_fname', 'emp_lname', 'dept_id', 'street',\n",
      "       'city', 'state', 'zip_code', 'phone', 'status', 'ss_number', 'salary',\n",
      "       'start_date', 'termination_date', 'birth_date', 'bene_health_ins',\n",
      "       'bene_life_ins', 'bene_day_care', 'sex'],\n",
      "      dtype='object')\n"
     ]
    }
   ],
   "source": [
    "import pandas as pd\n",
    "import pyodbc\n",
    "\n",
    "# Check column names\n",
    "print(Employee.columns)\n",
    "\n",
    "# Ensure correct data types and formats\n",
    "if 'birth_date' in Employee.columns and 'start_date' in Employee.columns:\n",
    "    Employee['birth_date'] = pd.to_datetime(Employee['birth_date'], errors='coerce')\n",
    "    Employee['start_date'] = pd.to_datetime(Employee['start_date'], errors='coerce')\n",
    "else:\n",
    "    print(\"Columns 'birth_date' and/or 'start_date' are missing in the DataFrame\")\n",
    "\n",
    "# Insert data into the table\n",
    "for index, row in Employee.iterrows():\n",
    "    try:\n",
    "        query = \"\"\"\n",
    "        INSERT INTO [Employee] (EmployeeID, FirstName, LastName, Region, City, PostalCode, Address, Job_title, Birth_date, Hire_date)\n",
    "        VALUES (?, ?, ?, ?, ?, ?, ?, ?, ?, ?)\n",
    "        \"\"\"\n",
    "        # Ensure values are in the correct format\n",
    "        birth_date = row.get('birth_date')\n",
    "        hire_date = row.get('start_date')\n",
    "\n",
    "        # Format the dates with seconds\n",
    "        birth_date_str = birth_date.strftime('%Y-%m-%d %H:%M:%S') if pd.notnull(birth_date) else None\n",
    "        hire_date_str = hire_date.strftime('%Y-%m-%d %H:%M:%S') if pd.notnull(hire_date) else None\n",
    "\n",
    "        params = (\n",
    "            row['emp_id'],\n",
    "            row['emp_fname'],\n",
    "            row['emp_lname'],\n",
    "            row['state'],\n",
    "            row['city'],\n",
    "            row['zip_code'],\n",
    "            row['street'],\n",
    "            row['status'],  # Assuming 'status' maps to 'Job_title'\n",
    "            birth_date_str,\n",
    "            hire_date_str\n",
    "        )\n",
    "        export_cursor.execute(query, params)\n",
    "    except pyodbc.Error as e:\n",
    "        print(f\"An error occurred: {e}\")\n",
    "        print(query)\n",
    "        print(\"Parameters:\", params)\n",
    "\n",
    "export_conn.commit()\n"
   ]
  }
 ],
 "metadata": {
  "kernelspec": {
   "display_name": "uo-bedrijf-hqdop-DQ-py3.12",
   "language": "python",
   "name": "python3"
  },
  "language_info": {
   "codemirror_mode": {
    "name": "ipython",
    "version": 3
   },
   "file_extension": ".py",
   "mimetype": "text/x-python",
   "name": "python",
   "nbconvert_exporter": "python",
   "pygments_lexer": "ipython3",
   "version": "3.12.2"
  }
 },
 "nbformat": 4,
 "nbformat_minor": 2
}
