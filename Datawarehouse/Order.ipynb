{
 "cells": [
  {
   "cell_type": "markdown",
   "metadata": {},
   "source": [
    "## Implementeer elk gemaakt ETL-schema in Python"
   ]
  },
  {
   "cell_type": "markdown",
   "metadata": {},
   "source": [
    "**imports & connection**"
   ]
  },
  {
   "cell_type": "code",
   "execution_count": 1,
   "metadata": {},
   "outputs": [],
   "source": [
    "import pandas as pd\n",
    "import pyodbc\n"
   ]
  },
  {
   "cell_type": "code",
   "execution_count": 2,
   "metadata": {},
   "outputs": [
    {
     "data": {
      "text/plain": [
       "<pyodbc.Cursor at 0x1fe49a24030>"
      ]
     },
     "execution_count": 2,
     "metadata": {},
     "output_type": "execute_result"
    }
   ],
   "source": [
    "DB = {'servername': 'LAPTOP-LPE28RPE\\SQLEXPRESS', \n",
    "    'database': 'United_outdoors'}\n",
    "\n",
    "export_conn = pyodbc.connect('DRIVER={SQL Server};SERVER=' + DB['servername'] + \n",
    "                              ';DATABASE=' + DB['database'])\n",
    "\n",
    "export_cursor = export_conn.cursor()\n",
    "export_cursor   "
   ]
  },
  {
   "cell_type": "markdown",
   "metadata": {},
   "source": [
    "**Database connection**"
   ]
  },
  {
   "cell_type": "code",
   "execution_count": 3,
   "metadata": {},
   "outputs": [],
   "source": [
    "\n",
    "Adventure = {\n",
    "    'servername' : 'LAPTOP-LPE28RPE\\SQLEXPRESS',\n",
    "    'database' : 'AdventureWorks2019'\n",
    "}\n",
    "\n",
    "\n",
    "Northwind = {\n",
    "    'servername' : 'LAPTOP-LPE28RPE\\SQLEXPRESS',\n",
    "    'database' : 'Northwind'\n",
    "}\n",
    "\n",
    "access_db_path = r'C:\\Users\\Humberto de Castro\\OneDrive\\Desktop\\SEM4\\AenC\\aenc.accdb'\n",
    "\n",
    "#Connect to AdventureWorks\n",
    "Adventure_conn = pyodbc.connect(f\"DRIVER={{SQL Server}};SERVER={Adventure['servername']};DATABASE={Adventure['database']};Trusted_Connection=yes;\")\n",
    "Adventure_cursor = Adventure_conn.cursor()\n",
    "\n",
    "#Connect to Northwind\n",
    "Northwind_conn = pyodbc.connect(f\"DRIVER={{SQL Server}};SERVER={Northwind['servername']};DATABASE={Northwind['database']};Trusted_Connection=yes;\")\n",
    "Northwind_cursor = Northwind_conn.cursor()\n",
    "\n",
    "#Connect to AenC\n",
    "AenC_conn = pyodbc.connect(f\"DRIVER={{Microsoft Access Driver (*.mdb, *.accdb)}};DBQ={access_db_path};\")\n",
    "\n"
   ]
  },
  {
   "cell_type": "code",
   "execution_count": 4,
   "metadata": {},
   "outputs": [
    {
     "name": "stderr",
     "output_type": "stream",
     "text": [
      "C:\\Users\\Humberto de Castro\\AppData\\Local\\Temp\\ipykernel_57712\\1319449748.py:22: UserWarning: pandas only supports SQLAlchemy connectable (engine/connection) or database string URI or sqlite3 DBAPI2 connection. Other DBAPI2 objects are not tested. Please consider using SQLAlchemy.\n",
      "  dataframes[table_name] = pd.read_sql_query(query, Adventure_conn)\n",
      "C:\\Users\\Humberto de Castro\\AppData\\Local\\Temp\\ipykernel_57712\\1319449748.py:25: UserWarning: pandas only supports SQLAlchemy connectable (engine/connection) or database string URI or sqlite3 DBAPI2 connection. Other DBAPI2 objects are not tested. Please consider using SQLAlchemy.\n",
      "  dataframes[table_name] = pd.read_sql_query(query, Northwind_conn)\n",
      "C:\\Users\\Humberto de Castro\\AppData\\Local\\Temp\\ipykernel_57712\\1319449748.py:28: UserWarning: pandas only supports SQLAlchemy connectable (engine/connection) or database string URI or sqlite3 DBAPI2 connection. Other DBAPI2 objects are not tested. Please consider using SQLAlchemy.\n",
      "  dataframes[table_name] = pd.read_sql_query(query, AenC_conn)\n"
     ]
    }
   ],
   "source": [
    "AdventureWorks_queries = {\n",
    "    'SalesOrderHeader' : 'SELECT * FROM Sales.SalesOrderHeader',\n",
    "    'SalesOrderDetail' : 'SELECT * FROM Sales.SalesOrderDetail'\n",
    "}\n",
    "\n",
    "Northwind_queries = {\n",
    "    'Orders' : 'SELECT * FROM Orders',\n",
    "    'OrderDetails' : 'SELECT * FROM [Order Details]'\n",
    "}\n",
    "\n",
    "AenC_queries = {\n",
    "    'sales_order' : 'SELECT * FROM sales_order',\n",
    "    'sales_order_item' : 'SELECT * FROM sales_order_item',\n",
    "    'Product' : 'SELECT * FROM Product' \n",
    "}\n",
    "\n",
    "dataframes = {}\n",
    "\n",
    "# Lees elke tabel in een DataFrame\n",
    "\n",
    "for table_name, query in AdventureWorks_queries.items():\n",
    "    dataframes[table_name] = pd.read_sql_query(query, Adventure_conn)\n",
    "\n",
    "for table_name, query in Northwind_queries.items():\n",
    "    dataframes[table_name] = pd.read_sql_query(query, Northwind_conn)\n",
    "\n",
    "for table_name, query in AenC_queries.items():\n",
    "    dataframes[table_name] = pd.read_sql_query(query, AenC_conn)\n",
    "\n",
    "#als je ik elk tabel als een dataframe/ variabele wil behandelen of aanroepen moet ik dit uitvoeren.\n",
    "for table_name, df in dataframes.items():\n",
    "    globals()[table_name] = df\n"
   ]
  },
  {
   "cell_type": "markdown",
   "metadata": {},
   "source": [
    "### Order"
   ]
  },
  {
   "cell_type": "markdown",
   "metadata": {},
   "source": [
    "**Extract**"
   ]
  },
  {
   "cell_type": "code",
   "execution_count": 5,
   "metadata": {},
   "outputs": [
    {
     "name": "stdout",
     "output_type": "stream",
     "text": [
      "SalesOrderID                       int64\n",
      "RevisionNumber                     int64\n",
      "OrderDate                 datetime64[ns]\n",
      "DueDate                   datetime64[ns]\n",
      "ShipDate                  datetime64[ns]\n",
      "Status                             int64\n",
      "OnlineOrderFlag                     bool\n",
      "SalesOrderNumber                  object\n",
      "PurchaseOrderNumber               object\n",
      "AccountNumber                     object\n",
      "CustomerID                         int64\n",
      "SalesPersonID                    float64\n",
      "TerritoryID                        int64\n",
      "BillToAddressID                    int64\n",
      "ShipToAddressID                    int64\n",
      "ShipMethodID                       int64\n",
      "CreditCardID                     float64\n",
      "CreditCardApprovalCode            object\n",
      "CurrencyRateID                   float64\n",
      "SubTotal                         float64\n",
      "TaxAmt                           float64\n",
      "Freight                          float64\n",
      "TotalDue                         float64\n",
      "Comment                           object\n",
      "rowguid_x                         object\n",
      "ModifiedDate_x            datetime64[ns]\n",
      "SalesOrderDetailID                 int64\n",
      "CarrierTrackingNumber             object\n",
      "OrderQty                           int64\n",
      "ProductID                          int64\n",
      "SpecialOfferID                     int64\n",
      "UnitPrice                        float64\n",
      "UnitPriceDiscount                float64\n",
      "LineTotal                        float64\n",
      "rowguid_y                         object\n",
      "ModifiedDate_y            datetime64[ns]\n",
      "dtype: object\n"
     ]
    }
   ],
   "source": [
    "#eerst horizontaal samenvoegen per database:\n",
    "AdventureWorks_Order = pd.merge(SalesOrderHeader, SalesOrderDetail, on = 'SalesOrderID')\n",
    "Northwind_Order = pd.merge(Orders, OrderDetails, on = 'OrderID')\n",
    "merge1 = pd.merge(Product, sales_order_item, left_on= 'id', right_on= 'prod_id')\n",
    "AenC_Order = pd.merge(merge1, sales_order, left_on = 'id_y', right_on = 'id')\n",
    "\n",
    "print(AdventureWorks_Order.dtypes)"
   ]
  },
  {
   "cell_type": "markdown",
   "metadata": {},
   "source": [
    "**Transform**"
   ]
  },
  {
   "cell_type": "code",
   "execution_count": 6,
   "metadata": {},
   "outputs": [
    {
     "name": "stderr",
     "output_type": "stream",
     "text": [
      "C:\\Users\\Humberto de Castro\\AppData\\Local\\Temp\\ipykernel_57712\\2543201151.py:11: FutureWarning: A value is trying to be set on a copy of a DataFrame or Series through chained assignment using an inplace method.\n",
      "The behavior will change in pandas 3.0. This inplace method will never work because the intermediate object on which we are setting values always behaves as a copy.\n",
      "\n",
      "For example, when doing 'df[col].method(value, inplace=True)', try using 'df.method({col: value}, inplace=True)' or df[col] = df[col].method(value) instead, to perform the operation inplace on the original object.\n",
      "\n",
      "\n",
      "  AdventureWorks_Order['EmployeeID'].fillna(0, inplace=True)\n"
     ]
    }
   ],
   "source": [
    "AdventureWorks_Order.rename(columns={\n",
    "    'SalesOrderID': 'OrderID',\n",
    "    'SalesOrderDetailID': 'OrderDetailID',\n",
    "    'OrderQty': 'Quantity',\n",
    "    'UnitPriceDiscount': 'Discount',\n",
    "    'Order_Date': 'OrderDate',\n",
    "    'SalesPersonID' : 'EmployeeID'\n",
    "}, inplace=True)\n",
    "\n",
    "# Vul NaN waarden in EmployeeID met een standaardwaarde (bijv. 0)\n",
    "AdventureWorks_Order['EmployeeID'].fillna(0, inplace=True)\n",
    "\n",
    "# change employe id type to int\n",
    "\n",
    "AdventureWorks_Order['EmployeeID'] = AdventureWorks_Order['EmployeeID'].astype(int)\n",
    "\n",
    "# change shipvia to string \n",
    "#Northwind_Order['ShipVia'] = Northwind_Order['ShipVia'].astype(str)\n",
    "Northwind_Order.rename(columns={\n",
    "    'ShipVia': 'ShipMethodID'\n",
    "}, inplace=True)\n",
    "\n",
    "AenC_Order.rename(columns={\n",
    "    'id': 'OrderID',\n",
    "    'item_id': 'OrderDetailID',\n",
    "    'quantity_y': 'Quantity',\n",
    "    'order_date': 'OrderDate',\n",
    "    'unit_price': 'UnitPrice',\n",
    "    'cust_id': 'CustomerID',\n",
    "    'sales_rep': 'EmployeeID',\n",
    "    'prod_id': 'ProductID'\n",
    "}, inplace=True)"
   ]
  },
  {
   "cell_type": "markdown",
   "metadata": {},
   "source": [
    "**Check of orderID's conflicten**"
   ]
  },
  {
   "cell_type": "code",
   "execution_count": 7,
   "metadata": {},
   "outputs": [
    {
     "name": "stdout",
     "output_type": "stream",
     "text": [
      "No conflicts found in Order IDs.\n",
      "Empty DataFrame\n",
      "Columns: [Conflicting Order IDs]\n",
      "Index: []\n"
     ]
    }
   ],
   "source": [
    "order_order_ids = set(AdventureWorks_Order['OrderID'])\n",
    "order_details_order_ids = set(Northwind_Order['OrderID'])\n",
    "Order_AenC_ids = set(AenC_Order['OrderID'])\n",
    "\n",
    "# Zoek conflicten tussen AdventureWorks en Northwind\n",
    "conflicting_order_ids_1 = order_order_ids.intersection(order_details_order_ids)\n",
    "\n",
    "# Zoek conflicten tussen AdventureWorks en AenC\n",
    "conflicting_order_ids_2 = order_order_ids.intersection(Order_AenC_ids)\n",
    "\n",
    "# Zoek conflicten tussen Northwind en AenC\n",
    "conflicting_order_ids_3 = order_details_order_ids.intersection(Order_AenC_ids)\n",
    "\n",
    "# Combineer alle conflicterende ID's\n",
    "all_conflicting_order_ids = conflicting_order_ids_1.union(conflicting_order_ids_2).union(conflicting_order_ids_3)\n",
    "\n",
    "if all_conflicting_order_ids:\n",
    "    print(\"Conflicting Order IDs found:\", all_conflicting_order_ids)\n",
    "else:\n",
    "    print(\"No conflicts found in Order IDs.\")\n",
    "\n",
    "# Display the conflicting Order IDs (if any)\n",
    "conflicts_df = pd.DataFrame(list(all_conflicting_order_ids), columns=['Conflicting Order IDs'])\n",
    "print(conflicts_df)"
   ]
  },
  {
   "cell_type": "markdown",
   "metadata": {},
   "source": [
    "**Alle dubbele ID's met een suffix zetten per database**"
   ]
  },
  {
   "cell_type": "code",
   "execution_count": 8,
   "metadata": {},
   "outputs": [],
   "source": [
    "\n",
    "\n",
    "# Prefixes toevoegen\n",
    "AdventureWorks_Order['EmployeeID'] = AdventureWorks_Order['EmployeeID'].apply(lambda x: f'AW_{x}')\n",
    "Northwind_Order['EmployeeID'] = Northwind_Order['EmployeeID'].apply(lambda x: f'NW_{x}')\n",
    "AenC_Order['EmployeeID'] = AenC_Order['EmployeeID'].apply(lambda x: f'AC_{x}')\n",
    "\n",
    "# Vervang 'AW_0' met 'NULL' in de kolom EmployeeID\n",
    "AdventureWorks_Order['EmployeeID'] = AdventureWorks_Order['EmployeeID'].replace('AW_0', None)\n",
    "\n",
    "AdventureWorks_Order['ShipMethodID'] = AdventureWorks_Order['ShipMethodID'].apply(lambda x: f'AW_{x}')\n",
    "Northwind_Order['ShipMethodID'] = Northwind_Order['ShipMethodID'].apply(lambda x: f'NW_{x}')\n",
    "# AenC_Order heeft geen ShipMethodID\n",
    "\n",
    "AdventureWorks_Order['ProductID'] = AdventureWorks_Order['ProductID'].apply(lambda x: f'AW_{x}')\n",
    "Northwind_Order['ProductID'] = Northwind_Order['ProductID'].apply(lambda x: f'NW_{x}')\n",
    "AenC_Order['ProductID'] = AenC_Order['ProductID'].apply(lambda x: f'AC_{x}')\n",
    "\n",
    "AdventureWorks_Order['CustomerID'] = AdventureWorks_Order['CustomerID'].apply(lambda x: f'AW_{x}')\n",
    "Northwind_Order['CustomerID'] = Northwind_Order['CustomerID'].apply(lambda x: f'NW_{x}')\n",
    "AenC_Order['CustomerID'] = AenC_Order['CustomerID'].apply(lambda x: f'AC_{x}')"
   ]
  },
  {
   "cell_type": "code",
   "execution_count": 9,
   "metadata": {},
   "outputs": [
    {
     "name": "stdout",
     "output_type": "stream",
     "text": [
      "OrderID           object\n",
      "OrderDetailID     object\n",
      "Quantity           int64\n",
      "UnitPrice        float64\n",
      "Discount         float64\n",
      "OrderDate         object\n",
      "CustomerID        object\n",
      "EmployeeID        object\n",
      "ShipMethodID      object\n",
      "ProductID         object\n",
      "Omzet            float64\n",
      "dtype: object\n"
     ]
    },
    {
     "name": "stderr",
     "output_type": "stream",
     "text": [
      "C:\\Users\\Humberto de Castro\\AppData\\Local\\Temp\\ipykernel_57712\\1983841409.py:18: FutureWarning: The behavior of DataFrame concatenation with empty or all-NA entries is deprecated. In a future version, this will no longer exclude empty or all-NA columns when determining the result dtypes. To retain the old behavior, exclude the relevant entries before the concat operation.\n",
      "  Order = pd.concat([AdventureWorks_Order, Northwind_Order, AenC_Order], ignore_index=True)\n"
     ]
    }
   ],
   "source": [
    "# Zorg ervoor dat alle vereiste kolommen bestaan en selecteer ze\n",
    "required_columns = ['OrderID', 'OrderDetailID', 'Quantity', 'UnitPrice', 'Discount', 'OrderDate', 'CustomerID', 'EmployeeID', 'ShipMethodID', 'ProductID']\n",
    "\n",
    "for col in required_columns:\n",
    "    if col not in AdventureWorks_Order.columns:\n",
    "        AdventureWorks_Order[col] = None\n",
    "    if col not in Northwind_Order.columns:\n",
    "        Northwind_Order[col] = None\n",
    "    if col not in AenC_Order.columns:\n",
    "        AenC_Order[col] = None\n",
    "\n",
    "# Selecteer de kolommen in de juiste volgorde\n",
    "AdventureWorks_Order = AdventureWorks_Order[required_columns]\n",
    "Northwind_Order = Northwind_Order[required_columns]\n",
    "AenC_Order = AenC_Order[required_columns]\n",
    "\n",
    "# Combineer de dataframes\n",
    "Order = pd.concat([AdventureWorks_Order, Northwind_Order, AenC_Order], ignore_index=True)\n",
    "\n",
    "# Converteer 'Quantity' en 'UnitPrice' naar numerieke typen\n",
    "Order['Quantity'] = pd.to_numeric(Order['Quantity'], errors='coerce')\n",
    "Order['UnitPrice'] = pd.to_numeric(Order['UnitPrice'], errors='coerce')\n",
    "\n",
    "Order['Omzet'] = Order['UnitPrice'] * Order['Quantity']\n",
    "\n",
    "# Toon het resultaat\n",
    "#print(combined_df)\n",
    "print(Order.dtypes)"
   ]
  },
  {
   "cell_type": "code",
   "execution_count": 10,
   "metadata": {},
   "outputs": [],
   "source": [
    "# Ensure correct data types and formats\n",
    "Order['OrderDate'] = pd.to_datetime(Order['OrderDate'], errors='coerce')\n",
    "\n",
    "# Insert data into the table\n",
    "for index, row in Order.iterrows():\n",
    "    try:\n",
    "        query = \"\"\"\n",
    "        INSERT INTO [Order] (OrderID, OrderDetailID, Quantity, UnitPrice, Discount, Omzet, OrderDate, CustomerID, EmployeeID, ShipMethodID, ProductID)\n",
    "        VALUES (?, ?, ?, ?, ?, ?, ?, ?, ?, ?, ?)\n",
    "        \"\"\"\n",
    "        # Ensure values are in the correct format\n",
    "        params = (\n",
    "            row['OrderID'],\n",
    "            row['OrderDetailID'] if pd.notnull(row['OrderDetailID']) else None,\n",
    "            row['Quantity'] if pd.notnull(row['Quantity']) else None,\n",
    "            float(row['UnitPrice']) if pd.notnull(row['UnitPrice']) else None,\n",
    "            float(row['Discount']) if pd.notnull(row['Discount']) else None,\n",
    "            float(row['Omzet']) if pd.notnull(row['Omzet']) else None,\n",
    "            row['OrderDate'].strftime('%Y-%m-%d %H:%M:%S') if pd.notnull(row['OrderDate']) else None,\n",
    "            row['CustomerID'],\n",
    "            row['EmployeeID'] if pd.notnull(row['EmployeeID']) else None,\n",
    "            row['ShipMethodID'] if pd.notnull(row['ShipMethodID']) else None,\n",
    "            row['ProductID']\n",
    "        )\n",
    "        export_cursor.execute(query, params)\n",
    "    except pyodbc.Error as e:\n",
    "        print(f\"An error occurred: {e}\")\n",
    "        print(query)\n",
    "        print(\"Parameters:\", params)\n",
    "\n",
    "\n",
    "export_conn.commit()"
   ]
  },
  {
   "cell_type": "markdown",
   "metadata": {},
   "source": [
    "### **Data_mutatie simuleren**"
   ]
  },
  {
   "cell_type": "code",
   "execution_count": null,
   "metadata": {},
   "outputs": [],
   "source": [
    "# Function to merge data into Order table\n",
    "def merge_order(order_id, order_detail_id, quantity, unit_price, discount, omzet, order_date, customer_id, employee_id, ship_method_id, product_id):\n",
    "    merge_query = \"{CALL MergeOrder (?, ?, ?, ?, ?, ?, ?, ?, ?, ?, ?)}\"\n",
    "    export_cursor.execute(merge_query, (order_id, order_detail_id, quantity, unit_price, discount, omzet, order_date, customer_id, employee_id, ship_method_id, product_id))\n",
    "    export_conn.commit()\n",
    "    print(\"Merged into Order table\")"
   ]
  },
  {
   "cell_type": "code",
   "execution_count": null,
   "metadata": {},
   "outputs": [],
   "source": [
    "# Example usage\n",
    "try:\n",
    "\n",
    "    # Merge into Order table\n",
    "    merge_order('O123', 'OD456', 10, 100.0, 5.0, '1000', '2023-06-07', 'C123', 'E123', 'AW_5', 'P123')\n",
    "    merge_order('O123', 'OD456', 12, 120.0, 4.0, '1200', '2023-06-07', 'C123', 'E123', 'AW_5', 'P123')\n",
    "\n",
    "finally:\n",
    "    # Close the connection\n",
    "    print('connection closed')"
   ]
  }
 ],
 "metadata": {
  "kernelspec": {
   "display_name": "united-outdoors-Ru-VU21r-py3.11",
   "language": "python",
   "name": "python3"
  },
  "language_info": {
   "codemirror_mode": {
    "name": "ipython",
    "version": 3
   },
   "file_extension": ".py",
   "mimetype": "text/x-python",
   "name": "python",
   "nbconvert_exporter": "python",
   "pygments_lexer": "ipython3",
   "version": "3.11.8"
  }
 },
 "nbformat": 4,
 "nbformat_minor": 2
}
