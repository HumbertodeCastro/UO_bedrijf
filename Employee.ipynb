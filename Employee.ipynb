{
 "cells": [
  {
   "cell_type": "code",
   "execution_count": null,
   "metadata": {},
   "outputs": [],
   "source": [
    "DB = {'servername': 'JULLAPTAB', \n",
    "    'database': 'UnitedOutdoors'}\n",
    "\n",
    "export_conn = pyodbc.connect('DRIVER={SQL Server};SERVER=' + DB['servername'] + \n",
    "                              ';DATABASE=' + DB['database'])\n",
    "\n",
    "export_cursor = export_conn.cursor()\n",
    "export_cursor  "
   ]
  },
  {
   "cell_type": "code",
   "execution_count": null,
   "metadata": {},
   "outputs": [],
   "source": [
    "\n",
    "Adventure = {\n",
    "    'servername' : 'JULLAPTAB',\n",
    "    'database' : 'AdventureWorks2019'\n",
    "}\n",
    "\n",
    "\n",
    "Northwind = {\n",
    "    'servername' : 'JULLAPTAB',\n",
    "    'database' : 'Northwind'\n",
    "}\n",
    "\n",
    "access_db_path = r'C:\\Users\\julia\\OneDrive\\Desktop\\THUAS\\ICT\\Year2\\Semester 4\\Project\\aenc.accdb'\n",
    "\n",
    "#Connect to AdventureWorks\n",
    "Adventure_conn = pyodbc.connect(f\"DRIVER={{SQL Server}};SERVER={Adventure['servername']};DATABASE={Adventure['database']};Trusted_Connection=yes;\")\n",
    "Adventure_cursor = Adventure_conn.cursor()\n",
    "\n",
    "#Connect to Northwind\n",
    "Northwind_conn = pyodbc.connect(f\"DRIVER={{SQL Server}};SERVER={Northwind['servername']};DATABASE={Northwind['database']};Trusted_Connection=yes;\")\n",
    "Northwind_cursor = Northwind_conn.cursor()\n",
    "\n",
    "#Connect to AenC\n",
    "AenC_conn = pyodbc.connect(f\"DRIVER={{Microsoft Access Driver (*.mdb, *.accdb)}};DBQ={access_db_path};\")\n",
    "\n"
   ]
  }
 ],
 "metadata": {
  "kernelspec": {
   "display_name": "uo-bedrijf-hqdop-DQ-py3.12",
   "language": "python",
   "name": "python3"
  },
  "language_info": {
   "name": "python",
   "version": "3.12.2"
  }
 },
 "nbformat": 4,
 "nbformat_minor": 2
}
