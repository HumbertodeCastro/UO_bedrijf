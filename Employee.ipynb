{
 "cells": [
  {
   "cell_type": "code",
   "execution_count": 1,
   "metadata": {},
   "outputs": [],
   "source": [
    "import pandas as pd\n",
    "import pyodbc\n"
   ]
  },
  {
   "cell_type": "code",
   "execution_count": 2,
   "metadata": {},
   "outputs": [
    {
     "name": "stderr",
     "output_type": "stream",
     "text": [
      "<>:1: SyntaxWarning: invalid escape sequence '\\S'\n",
      "<>:1: SyntaxWarning: invalid escape sequence '\\S'\n",
      "C:\\Users\\antho\\AppData\\Local\\Temp\\ipykernel_4808\\944234878.py:1: SyntaxWarning: invalid escape sequence '\\S'\n",
      "  DB = {'servername': 'LAPTOP-105ECA33\\SQLEXPRESS',\n"
     ]
    },
    {
     "data": {
      "text/plain": [
       "<pyodbc.Cursor at 0x1e6d5866c30>"
      ]
     },
     "execution_count": 2,
     "metadata": {},
     "output_type": "execute_result"
    }
   ],
   "source": [
    "DB = {'servername': 'LAPTOP-105ECA33\\SQLEXPRESS', \n",
    "    'database': 'UnitedOutdoors'}\n",
    "\n",
    "export_conn = pyodbc.connect('DRIVER={SQL Server};SERVER=' + DB['servername'] + \n",
    "                              ';DATABASE=' + DB['database'])\n",
    "\n",
    "export_cursor = export_conn.cursor()\n",
    "export_cursor  "
   ]
  },
  {
   "cell_type": "code",
   "execution_count": 3,
   "metadata": {},
   "outputs": [
    {
     "name": "stderr",
     "output_type": "stream",
     "text": [
      "<>:2: SyntaxWarning: invalid escape sequence '\\S'\n",
      "<>:8: SyntaxWarning: invalid escape sequence '\\S'\n",
      "<>:2: SyntaxWarning: invalid escape sequence '\\S'\n",
      "<>:8: SyntaxWarning: invalid escape sequence '\\S'\n",
      "C:\\Users\\antho\\AppData\\Local\\Temp\\ipykernel_4808\\1537168005.py:2: SyntaxWarning: invalid escape sequence '\\S'\n",
      "  'servername' : 'LAPTOP-105ECA33\\SQLEXPRESS',\n",
      "C:\\Users\\antho\\AppData\\Local\\Temp\\ipykernel_4808\\1537168005.py:8: SyntaxWarning: invalid escape sequence '\\S'\n",
      "  'servername' : 'LAPTOP-105ECA33\\SQLEXPRESS',\n"
     ]
    }
   ],
   "source": [
    "\n",
    "Adventure = {\n",
    "    'servername' : 'LAPTOP-105ECA33\\SQLEXPRESS',\n",
    "    'database' : 'AdventureWorks2019'\n",
    "}\n",
    "\n",
    "\n",
    "Northwind = {\n",
    "    'servername' : 'LAPTOP-105ECA33\\SQLEXPRESS',\n",
    "    'database' : 'Northwind'\n",
    "}\n",
    "\n",
    "access_db_path = r'C:\\HBO ICT\\DEDS jaar 2\\aenc.accdb'\n",
    "\n",
    "#Connect to AdventureWorks\n",
    "Adventure_conn = pyodbc.connect(f\"DRIVER={{SQL Server}};SERVER={Adventure['servername']};DATABASE={Adventure['database']};Trusted_Connection=yes;\")\n",
    "Adventure_cursor = Adventure_conn.cursor()\n",
    "\n",
    "#Connect to Northwind\n",
    "Northwind_conn = pyodbc.connect(f\"DRIVER={{SQL Server}};SERVER={Northwind['servername']};DATABASE={Northwind['database']};Trusted_Connection=yes;\")\n",
    "Northwind_cursor = Northwind_conn.cursor()\n",
    "\n",
    "#Connect to AenC\n",
    "AenC_conn = pyodbc.connect(f\"DRIVER={{Microsoft Access Driver (*.mdb, *.accdb)}};DBQ={access_db_path};\")\n",
    "\n"
   ]
  },
  {
   "cell_type": "code",
   "execution_count": 4,
   "metadata": {},
   "outputs": [
    {
     "name": "stderr",
     "output_type": "stream",
     "text": [
      "C:\\Users\\antho\\AppData\\Local\\Temp\\ipykernel_4808\\3154358536.py:21: UserWarning: pandas only supports SQLAlchemy connectable (engine/connection) or database string URI or sqlite3 DBAPI2 connection. Other DBAPI2 objects are not tested. Please consider using SQLAlchemy.\n",
      "  dataframes[table_name] = pd.read_sql_query(query, Adventure_conn)\n",
      "C:\\Users\\antho\\AppData\\Local\\Temp\\ipykernel_4808\\3154358536.py:24: UserWarning: pandas only supports SQLAlchemy connectable (engine/connection) or database string URI or sqlite3 DBAPI2 connection. Other DBAPI2 objects are not tested. Please consider using SQLAlchemy.\n",
      "  dataframes[table_name] = pd.read_sql_query(query, Northwind_conn)\n",
      "C:\\Users\\antho\\AppData\\Local\\Temp\\ipykernel_4808\\3154358536.py:27: UserWarning: pandas only supports SQLAlchemy connectable (engine/connection) or database string URI or sqlite3 DBAPI2 connection. Other DBAPI2 objects are not tested. Please consider using SQLAlchemy.\n",
      "  dataframes[table_name] = pd.read_sql_query(query, AenC_conn)\n"
     ]
    }
   ],
   "source": [
    "AdventureWorks_queries = {\n",
    "    'Employee' : 'SELECT * FROM HumanResources.Employee',\n",
    "    \n",
    "}\n",
    "\n",
    "Northwind_queries = {\n",
    "    'Employee' : 'SELECT * FROM Employees',\n",
    "    \n",
    "}\n",
    "\n",
    "AenC_queries = {\n",
    "    'Employee' : 'SELECT * FROM Employee',\n",
    "    \n",
    "}\n",
    "\n",
    "dataframes = {}\n",
    "\n",
    "# Lees elke tabel in een DataFrame\n",
    "\n",
    "for table_name, query in AdventureWorks_queries.items():\n",
    "    dataframes[table_name] = pd.read_sql_query(query, Adventure_conn)\n",
    "\n",
    "for table_name, query in Northwind_queries.items():\n",
    "    dataframes[table_name] = pd.read_sql_query(query, Northwind_conn)\n",
    "\n",
    "for table_name, query in AenC_queries.items():\n",
    "    dataframes[table_name] = pd.read_sql_query(query, AenC_conn)\n",
    "\n",
    "#als je ik elk tabel als een dataframe/ variabele wil behandelen of aanroepen moet ik dit uitvoeren.\n",
    "for table_name, df in dataframes.items():\n",
    "    globals()[table_name] = df\n"
   ]
  },
  {
   "cell_type": "code",
   "execution_count": null,
   "metadata": {},
   "outputs": [],
   "source": [
    "#eerst horizontaal samenvoegen per database:\n",
    "AdventureWorks_Order = pd.merge(SalesOrderHeader, SalesOrderDetail, on = 'SalesOrderID')\n",
    "Northwind_Order = pd.merge(Orders, OrderDetails, on = 'OrderID')\n",
    "AenC_Order = pd.merge(sales_order, sales_order_item, on = 'id')"
   ]
  },
  {
   "cell_type": "code",
   "execution_count": null,
   "metadata": {},
   "outputs": [
    {
     "name": "stdout",
     "output_type": "stream",
     "text": [
      "No conflicts found in Order IDs.\n",
      "Empty DataFrame\n",
      "Columns: [Conflicting Order IDs]\n",
      "Index: []\n"
     ]
    }
   ],
   "source": [
    "AdventureWorks_Order.rename(columns={\n",
    "    'SalesOrderID': 'OrderID',\n",
    "    'SalesOrderDetailID': 'OrderDetailID',\n",
    "    'OrderQty': 'Quantity',\n",
    "    'UnitPriceDiscount': 'Discount',\n",
    "    'Order_Date': 'OrderDate',\n",
    "    'SalesPersonID' : 'EmployeeID'\n",
    "}, inplace=True)\n",
    "\n",
    "# change shipvia to string \n",
    "#Northwind_Order['ShipVia'] = Northwind_Order['ShipVia'].astype(str)\n",
    "Northwind_Order.rename(columns={\n",
    "    'ShipVia': 'ShipMethodID'\n",
    "}, inplace=True)\n",
    "\n",
    "AenC_Order.rename(columns={\n",
    "    'id': 'OrderID',\n",
    "    'item_id': 'OrderDetailID',\n",
    "    'quantity': 'Quantity',\n",
    "    'order_date': 'OrderDate',\n",
    "    'cust_id': 'CustomerID',\n",
    "    'sales_rep': 'EmployeeID',\n",
    "    'prod_id': 'ProductID'\n",
    "}, inplace=True)\n",
    "\n",
    "order_order_ids = set(AdventureWorks_Order['OrderID'])\n",
    "order_details_order_ids = set(Northwind_Order['OrderID'])\n",
    "Order_AenC_ids = set(AenC_Order['OrderID'])\n",
    "\n",
    "# Zoek conflicten tussen AdventureWorks en Northwind\n",
    "conflicting_order_ids_1 = order_order_ids.intersection(order_details_order_ids)\n",
    "\n",
    "# Zoek conflicten tussen AdventureWorks en AenC\n",
    "conflicting_order_ids_2 = order_order_ids.intersection(Order_AenC_ids)\n",
    "\n",
    "# Zoek conflicten tussen Northwind en AenC\n",
    "conflicting_order_ids_3 = order_details_order_ids.intersection(Order_AenC_ids)\n",
    "\n",
    "# Combineer alle conflicterende ID's\n",
    "all_conflicting_order_ids = conflicting_order_ids_1.union(conflicting_order_ids_2).union(conflicting_order_ids_3)\n",
    "\n",
    "if all_conflicting_order_ids:\n",
    "    print(\"Conflicting Order IDs found:\", all_conflicting_order_ids)\n",
    "else:\n",
    "    print(\"No conflicts found in Order IDs.\")\n",
    "\n",
    "# Display the conflicting Order IDs (if any)\n",
    "conflicts_df = pd.DataFrame(list(all_conflicting_order_ids), columns=['Conflicting Order IDs'])\n",
    "print(conflicts_df)"
   ]
  },
  {
   "cell_type": "code",
   "execution_count": null,
   "metadata": {},
   "outputs": [],
   "source": [
    "# Adding a prefix to EmployeeIDs for each source DataFrame\n",
    "AdventureWorks_Order['EmployeeID'] = AdventureWorks_Order['EmployeeID'].apply(lambda x: f'AW_{x}')\n",
    "Northwind_Order['EmployeeID'] = Northwind_Order['EmployeeID'].apply(lambda x: f'NW_{x}')\n",
    "AenC_Order['EmployeeID'] = AenC_Order['EmployeeID'].apply(lambda x: f'AC_{x}')\n",
    "\n",
    "#prefix for SHIPMETHOD\n",
    "\n",
    "AdventureWorks_Order['ShipMethodID'] = AdventureWorks_Order['ShipMethodID'].apply(lambda x: f'AW_{x}')\n",
    "Northwind_Order['ShipMethodID'] = Northwind_Order['ShipMethodID'].apply(lambda x: f'NW_{x}')\n",
    "#AenC_Order['ShipMethodID'] = AenC_Order['ShipMethodID'].apply(lambda x: f'AC_{x}')\n",
    "\n",
    "#prefix for ProductID\n",
    "\n",
    "AdventureWorks_Order['ProductID'] = AdventureWorks_Order['ProductID'].apply(lambda x: f'AW_{x}')\n",
    "Northwind_Order['ProductID'] = Northwind_Order['ProductID'].apply(lambda x: f'NW_{x}')\n",
    "AenC_Order['ProductID'] = AenC_Order['ProductID'].apply(lambda x: f'AC_{x}')\n",
    "\n",
    "#prefix for CustomerID\n",
    "\n",
    "AdventureWorks_Order['CustomerID'] = AdventureWorks_Order['CustomerID'].apply(lambda x: f'AW_{x}')\n",
    "#Northwind_Order['CustomerID'] = Northwind_Order['CustomerID'].apply(lambda x: f'NW_{x}')\n",
    "AenC_Order['CustomerID'] = AenC_Order['CustomerID'].apply(lambda x: f'AC_{x}')\n",
    "\n",
    "# maar dan ook prefix zetten in bijbehorende dimensies en tabellen.\n"
   ]
  }
 ],
 "metadata": {
  "kernelspec": {
   "display_name": "uo-bedrijf-hqdop-DQ-py3.12",
   "language": "python",
   "name": "python3"
  },
  "language_info": {
   "codemirror_mode": {
    "name": "ipython",
    "version": 3
   },
   "file_extension": ".py",
   "mimetype": "text/x-python",
   "name": "python",
   "nbconvert_exporter": "python",
   "pygments_lexer": "ipython3",
   "version": "3.12.2"
  }
 },
 "nbformat": 4,
 "nbformat_minor": 2
}
