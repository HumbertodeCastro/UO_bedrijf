{
 "cells": [
  {
   "cell_type": "markdown",
   "metadata": {},
   "source": [
    "## Implementeer elk gemaakt ETL-schema in Python"
   ]
  },
  {
   "cell_type": "markdown",
   "metadata": {},
   "source": [
    "**imports & connection**"
   ]
  },
  {
   "cell_type": "code",
   "execution_count": 1,
   "metadata": {},
   "outputs": [],
   "source": [
    "import pandas as pd\n",
    "import pyodbc"
   ]
  },
  {
   "cell_type": "code",
   "execution_count": 2,
   "metadata": {},
   "outputs": [
    {
     "data": {
      "text/plain": [
       "<pyodbc.Cursor at 0x26aea00a8b0>"
      ]
     },
     "execution_count": 2,
     "metadata": {},
     "output_type": "execute_result"
    }
   ],
   "source": [
    "DB = {'servername': 'LAPTOP-LPE28RPE\\SQLEXPRESS', \n",
    "    'database': 'TestSCD'}\n",
    "\n",
    "export_conn = pyodbc.connect('DRIVER={SQL Server};SERVER=' + DB['servername'] + \n",
    "                              ';DATABASE=' + DB['database'])\n",
    "\n",
    "export_cursor = export_conn.cursor()\n",
    "export_cursor   "
   ]
  },
  {
   "cell_type": "markdown",
   "metadata": {},
   "source": [
    "**Database connection**"
   ]
  },
  {
   "cell_type": "code",
   "execution_count": 3,
   "metadata": {},
   "outputs": [],
   "source": [
    "Adventure = {\n",
    "    'servername' : 'LAPTOP-LPE28RPE\\SQLEXPRESS',\n",
    "    'database' : 'AdventureWorks2019'\n",
    "}\n",
    "\n",
    "\n",
    "Northwind = {\n",
    "    'servername' : 'LAPTOP-LPE28RPE\\SQLEXPRESS',\n",
    "    'database' : 'Northwind'\n",
    "}\n",
    "\n",
    "access_db_path = r'C:\\Users\\Humberto de Castro\\OneDrive\\Desktop\\SEM4\\AenC\\aenc.accdb'\n",
    "\n",
    "#Connect to AdventureWorks\n",
    "Adventure_conn = pyodbc.connect(f\"DRIVER={{SQL Server}};SERVER={Adventure['servername']};DATABASE={Adventure['database']};Trusted_Connection=yes;\")\n",
    "Adventure_cursor = Adventure_conn.cursor()\n",
    "\n",
    "#Connect to Northwind\n",
    "Northwind_conn = pyodbc.connect(f\"DRIVER={{SQL Server}};SERVER={Northwind['servername']};DATABASE={Northwind['database']};Trusted_Connection=yes;\")\n",
    "Northwind_cursor = Northwind_conn.cursor()\n",
    "\n",
    "#Connect to AenC\n",
    "AenC_conn = pyodbc.connect(f\"DRIVER={{Microsoft Access Driver (*.mdb, *.accdb)}};DBQ={access_db_path};\")\n",
    "\n"
   ]
  },
  {
   "cell_type": "code",
   "execution_count": 4,
   "metadata": {},
   "outputs": [
    {
     "name": "stderr",
     "output_type": "stream",
     "text": [
      "C:\\Users\\Humberto de Castro\\AppData\\Local\\Temp\\ipykernel_74396\\2043654250.py:20: UserWarning: pandas only supports SQLAlchemy connectable (engine/connection) or database string URI or sqlite3 DBAPI2 connection. Other DBAPI2 objects are not tested. Please consider using SQLAlchemy.\n",
      "  dataframes[table_name] = pd.read_sql_query(query, Adventure_conn)\n",
      "C:\\Users\\Humberto de Castro\\AppData\\Local\\Temp\\ipykernel_74396\\2043654250.py:23: UserWarning: pandas only supports SQLAlchemy connectable (engine/connection) or database string URI or sqlite3 DBAPI2 connection. Other DBAPI2 objects are not tested. Please consider using SQLAlchemy.\n",
      "  dataframes[table_name] = pd.read_sql_query(query, Northwind_conn)\n",
      "C:\\Users\\Humberto de Castro\\AppData\\Local\\Temp\\ipykernel_74396\\2043654250.py:26: UserWarning: pandas only supports SQLAlchemy connectable (engine/connection) or database string URI or sqlite3 DBAPI2 connection. Other DBAPI2 objects are not tested. Please consider using SQLAlchemy.\n",
      "  dataframes[table_name] = pd.read_sql_query(query, AenC_conn)\n"
     ]
    }
   ],
   "source": [
    "AdventureWorks_queries = {\n",
    "    'Shipmethod' : 'SELECT * FROM Purchasing.Shipmethod'\n",
    "}\n",
    "\n",
    "Northwind_queries = {\n",
    "    'Shippers' : 'SELECT * FROM Shippers'\n",
    "}\n",
    "\n",
    "AenC_queries = {\n",
    "    'sales_order' : 'SELECT * FROM sales_order',\n",
    "    'sales_order_item' : 'SELECT * FROM sales_order_item',\n",
    "    'Product' : 'SELECT * FROM Product' \n",
    "}\n",
    "\n",
    "dataframes = {}\n",
    "\n",
    "# Lees elke tabel in een DataFrame\n",
    "\n",
    "for table_name, query in AdventureWorks_queries.items():\n",
    "    dataframes[table_name] = pd.read_sql_query(query, Adventure_conn)\n",
    "\n",
    "for table_name, query in Northwind_queries.items():\n",
    "    dataframes[table_name] = pd.read_sql_query(query, Northwind_conn)\n",
    "\n",
    "for table_name, query in AenC_queries.items():\n",
    "    dataframes[table_name] = pd.read_sql_query(query, AenC_conn)\n",
    "\n",
    "#als je ik elk tabel als een dataframe/ variabele wil behandelen of aanroepen moet ik dit uitvoeren.\n",
    "for table_name, df in dataframes.items():\n",
    "    globals()[table_name] = df\n"
   ]
  },
  {
   "cell_type": "markdown",
   "metadata": {},
   "source": [
    "## Ship"
   ]
  },
  {
   "cell_type": "markdown",
   "metadata": {},
   "source": [
    "Transform"
   ]
  },
  {
   "cell_type": "code",
   "execution_count": 5,
   "metadata": {},
   "outputs": [],
   "source": [
    "Shippers.rename(columns={\n",
    "    'ShipperID': 'ShipMethodID',\n",
    "    'CompanyName' : 'Name'\n",
    "}, inplace=True)"
   ]
  },
  {
   "cell_type": "code",
   "execution_count": 6,
   "metadata": {},
   "outputs": [],
   "source": [
    "Shipmethod['ShipMethodID'] = Shipmethod['ShipMethodID'].apply(lambda x: f'AW_{x}')\n",
    "Shippers['ShipMethodID'] = Shippers['ShipMethodID'].apply(lambda x: f'NW_{x}')\n",
    "# AenC_Order heeft geen ShipMethodID"
   ]
  },
  {
   "cell_type": "code",
   "execution_count": 7,
   "metadata": {},
   "outputs": [
    {
     "name": "stdout",
     "output_type": "stream",
     "text": [
      "ShipMethodID     object\n",
      "Name             object\n",
      "ShipBase        float64\n",
      "ShipRate        float64\n",
      "dtype: object\n"
     ]
    },
    {
     "name": "stderr",
     "output_type": "stream",
     "text": [
      "C:\\Users\\Humberto de Castro\\AppData\\Local\\Temp\\ipykernel_74396\\3011861440.py:15: FutureWarning: The behavior of DataFrame concatenation with empty or all-NA entries is deprecated. In a future version, this will no longer exclude empty or all-NA columns when determining the result dtypes. To retain the old behavior, exclude the relevant entries before the concat operation.\n",
      "  Ship = pd.concat([Shipmethod, Shippers], ignore_index=True)\n"
     ]
    }
   ],
   "source": [
    "# Zorg ervoor dat alle vereiste kolommen bestaan en selecteer ze\n",
    "required_columns = ['ShipMethodID', 'Name', 'ShipBase', 'ShipRate']\n",
    "\n",
    "for col in required_columns:\n",
    "    if col not in Shippers.columns:\n",
    "        Shippers[col] = None\n",
    "    if col not in Shipmethod.columns:\n",
    "        Shipmethod[col] = None\n",
    "\n",
    "# Selecteer de kolommen in de juiste volgorde\n",
    "Shippers = Shippers[required_columns]\n",
    "Shipmethod = Shipmethod[required_columns]\n",
    "\n",
    "# Combineer de dataframes\n",
    "Ship = pd.concat([Shipmethod, Shippers], ignore_index=True)\n",
    "\n",
    "print(Ship.dtypes)"
   ]
  },
  {
   "cell_type": "markdown",
   "metadata": {},
   "source": [
    "### Load in ssms"
   ]
  },
  {
   "cell_type": "code",
   "execution_count": 8,
   "metadata": {},
   "outputs": [],
   "source": [
    "# Insert data into the Ship table\n",
    "for index, row in Ship.iterrows():\n",
    "    try:\n",
    "        query = \"\"\"\n",
    "        INSERT INTO [Ship] (ShipMethodID, Name, ShipBase, ShipRate)\n",
    "        VALUES (?, ?, ?, ?)\n",
    "        \"\"\"\n",
    "        # Ensure values are in the correct format\n",
    "        params = (\n",
    "            row['ShipMethodID'],\n",
    "            row['Name'],\n",
    "            float(row['ShipBase']) if pd.notnull(row['ShipBase']) else None,\n",
    "            float(row['ShipRate']) if pd.notnull(row['ShipRate']) else None\n",
    "        )\n",
    "        export_cursor.execute(query, params)\n",
    "    except pyodbc.Error as e:\n",
    "        print(f\"An error occurred: {e}\")\n",
    "        print(\"Query:\", query)\n",
    "        print(\"Parameters:\", params)\n",
    "    except Exception as e:\n",
    "        print(f\"An unexpected error occurred: {e}\")\n",
    "        print(\"Query:\", query)\n",
    "        print(\"Parameters:\", params)\n",
    "\n",
    "export_conn.commit()\n"
   ]
  },
  {
   "cell_type": "markdown",
   "metadata": {},
   "source": [
    "### **Data_mutatie simuleren**"
   ]
  },
  {
   "cell_type": "markdown",
   "metadata": {},
   "source": [
    "Ship"
   ]
  },
  {
   "cell_type": "code",
   "execution_count": 9,
   "metadata": {},
   "outputs": [],
   "source": [
    "# Function to merge data into Ship table\n",
    "def merge_ship(ship_method_id, name, ship_base, ship_rate):\n",
    "    merge_query = \"{CALL MergeShip (?, ?, ?, ?)}\"\n",
    "    export_cursor.execute(merge_query, (ship_method_id, name, ship_base, ship_rate))\n",
    "    export_conn.commit()\n",
    "    print(\"Merged into Ship table\")"
   ]
  },
  {
   "cell_type": "code",
   "execution_count": 32,
   "metadata": {},
   "outputs": [],
   "source": [
    "# Function to insert data into Ship table\n",
    "def insert_ship(ship_method_id, name, ship_base, ship_rate):\n",
    "    insert_query = \"\"\"\n",
    "    INSERT INTO Ship (ShipMethodID, Name, ShipBase, ShipRate)\n",
    "    VALUES (?, ?, ?, ?)\n",
    "    \"\"\"\n",
    "    export_cursor.execute(insert_query, (ship_method_id, name, ship_base, ship_rate))\n",
    "    export_conn.commit()\n",
    "    print(\"Inserted into Ship table\")"
   ]
  },
  {
   "cell_type": "code",
   "execution_count": 33,
   "metadata": {},
   "outputs": [],
   "source": [
    "# Function to update data in Ship table\n",
    "def update_ship(ship_surrogate_key, new_name):\n",
    "    update_query = \"\"\"\n",
    "    UPDATE Ship\n",
    "    SET Name = ?\n",
    "    WHERE ShipSurrogateKey = ?\n",
    "    \"\"\"\n",
    "    export_cursor.execute(update_query, (new_name, ship_surrogate_key))\n",
    "    export_conn.commit()\n",
    "    print(\"Updated Ship table\")\n"
   ]
  },
  {
   "cell_type": "code",
   "execution_count": 10,
   "metadata": {},
   "outputs": [
    {
     "name": "stdout",
     "output_type": "stream",
     "text": [
      "Merged into Ship table\n",
      "Merged into Ship table\n",
      "connection closed\n"
     ]
    }
   ],
   "source": [
    "# Example usage\n",
    "try:\n",
    "\n",
    "     # Merge into Ship table\n",
    "    merge_ship('AW_5', 'Speedy', 5.00, 1.00)\n",
    "\n",
    "    # Update Ship table (Type 2 SCD)\n",
    "    merge_ship('AW_5', 'Super Speedy', 6.00, 1.50)\n",
    "\n",
    "\n",
    "finally:\n",
    "    # Close the connection\n",
    "    print('connection closed')"
   ]
  }
 ],
 "metadata": {
  "kernelspec": {
   "display_name": "uo-bedrijf-V1uT7Q__-py3.11",
   "language": "python",
   "name": "python3"
  },
  "language_info": {
   "codemirror_mode": {
    "name": "ipython",
    "version": 3
   },
   "file_extension": ".py",
   "mimetype": "text/x-python",
   "name": "python",
   "nbconvert_exporter": "python",
   "pygments_lexer": "ipython3",
   "version": "3.11.8"
  }
 },
 "nbformat": 4,
 "nbformat_minor": 2
}
